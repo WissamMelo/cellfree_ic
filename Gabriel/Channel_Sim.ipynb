{
 "cells": [
  {
   "cell_type": "markdown",
   "metadata": {},
   "source": [
    "#### Written by Gabriel Borges Pinheiro\n",
    "[Github](github.com/gabrielbopi)"
   ]
  },
  {
   "cell_type": "code",
   "execution_count": 1,
   "metadata": {},
   "outputs": [],
   "source": [
    "import numpy as np\n",
    "#import scipy.stats as sps\n",
    "import matplotlib.pyplot as plt\n",
    "%matplotlib inline"
   ]
  },
  {
   "cell_type": "code",
   "execution_count": 2,
   "metadata": {},
   "outputs": [],
   "source": [
    "def db(X):\n",
    "    return 10 * np.log10(np.abs(X))"
   ]
  },
  {
   "cell_type": "code",
   "execution_count": 3,
   "metadata": {},
   "outputs": [],
   "source": [
    "def inv_db(X):\n",
    "    return 10**(X/10)"
   ]
  },
  {
   "cell_type": "code",
   "execution_count": 4,
   "metadata": {},
   "outputs": [],
   "source": [
    "def beta_channel(D):\n",
    "    \"\"\"\n",
    "    Returns the \n",
    "    \"\"\"\n",
    "    #Band (LTE band 7)\n",
    "    B = 2.6e9\n",
    "    #Wavelength\n",
    "    l = 3e8/B\n",
    "    R = D\n",
    "    #Linear pathloss\n",
    "    L_lin =  l/(4*np.pi*R)**2\n",
    "    beta = L_lin\n",
    "    return beta\n"
   ]
  },
  {
   "cell_type": "code",
   "execution_count": 5,
   "metadata": {},
   "outputs": [],
   "source": [
    "def rand_channel(D, N):\n",
    "    \"\"\"\n",
    "    Returns the channel\n",
    "    \"\"\"\n",
    "    N = 2\n",
    "    beta = beta_channel(D)\n",
    "    amp = np.sqrt(beta)/2\n",
    "    h = (np.random.randn(N) + 1j*np.random.randn(N)) * amp\n",
    "    return h\n"
   ]
  },
  {
   "cell_type": "code",
   "execution_count": 6,
   "metadata": {},
   "outputs": [],
   "source": [
    "def compute_snr(D, N):\n",
    "    h = rand_channel(D, N)\n",
    "    #Nomalizing for precoding\n",
    "    v = np.conj(h) / np.abs(h)\n",
    "    #SNR_t=1:\n",
    "    P_t = inv_db(10)\n",
    "    sigma = inv_db(10)\n",
    "    SNR_t = P_t/sigma**2\n",
    "    SNR = np.abs(v.transpose() * h)**2 * SNR_t\n",
    "    return SNR"
   ]
  },
  {
   "cell_type": "code",
   "execution_count": 7,
   "metadata": {},
   "outputs": [],
   "source": [
    "def snr_average(mc,D, N):\n",
    "    \"\"\"\n",
    "    The average precoded channel\n",
    "    \"\"\"\n",
    "    samples_snr = np.array([])\n",
    "    for i in range(mc):\n",
    "        samples_snr = np.append(samples_snr, compute_snr(D, N))\n",
    "    return np.mean(samples_snr)"
   ]
  },
  {
   "cell_type": "code",
   "execution_count": 8,
   "metadata": {},
   "outputs": [],
   "source": [
    "#Distance between BS and UE [meter] inner cell\n",
    "R = np.array([10,50,15])\n",
    "#Number of Monte Carlo realizations\n",
    "mc = 100\n",
    "#Number of resolution for plotting\n",
    "n = 30\n",
    "#Band (LTE band 7)\n",
    "B = 2.6e9"
   ]
  },
  {
   "cell_type": "code",
   "execution_count": 12,
   "metadata": {},
   "outputs": [],
   "source": [
    "#Maximum range between BS and UE [meter] inner cell\n",
    "D_max = 150\n",
    "#Generate a random point for UE position (height of antenna BS = 15m)\n",
    "R = np.array(np.append(np.sqrt(D_max)*np.random.randn(2), 15))\n",
    "#Number of Monte Carlo realizations\n",
    "mc = 100\n",
    "#Number of resolution for plotting\n",
    "n = 30\n",
    "#Band (LTE band 7)\n",
    "B = 2.6e9\n",
    "#Number of array's antennas\n",
    "N = 64"
   ]
  },
  {
   "cell_type": "code",
   "execution_count": 13,
   "metadata": {
    "scrolled": true
   },
   "outputs": [
    {
     "name": "stdout",
     "output_type": "stream",
     "text": [
      "location: [ 6.63475302  0.51926098 15.        ]\n"
     ]
    },
    {
     "data": {
      "text/plain": [
       "-68.55305833068223"
      ]
     },
     "execution_count": 13,
     "metadata": {},
     "output_type": "execute_result"
    }
   ],
   "source": [
    "print('location: {}'.format(R))\n",
    "D = np.linalg.norm(R)\n",
    "db(snr_average(mc,D, N))"
   ]
  }
 ],
 "metadata": {
  "kernelspec": {
   "display_name": "Python 3",
   "language": "python",
   "name": "python3"
  },
  "language_info": {
   "codemirror_mode": {
    "name": "ipython",
    "version": 3
   },
   "file_extension": ".py",
   "mimetype": "text/x-python",
   "name": "python",
   "nbconvert_exporter": "python",
   "pygments_lexer": "ipython3",
   "version": "3.8.3"
  }
 },
 "nbformat": 4,
 "nbformat_minor": 4
}
