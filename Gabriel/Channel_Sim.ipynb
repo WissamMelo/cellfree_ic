{
 "cells": [
  {
   "cell_type": "markdown",
   "metadata": {},
   "source": [
    "#### Written by Gabriel Borges Pinheiro\n",
    "[Github](github.com/gabrielbopi)"
   ]
  },
  {
   "cell_type": "code",
   "execution_count": 36,
   "metadata": {},
   "outputs": [],
   "source": [
    "import numpy as np\n",
    "#import scipy.stats as sps\n",
    "import matplotlib.pyplot as plt\n",
    "%matplotlib inline"
   ]
  },
  {
   "cell_type": "code",
   "execution_count": 37,
   "metadata": {},
   "outputs": [],
   "source": [
    "def db(X):\n",
    "    return 10 * np.log10(np.abs(X))"
   ]
  },
  {
   "cell_type": "code",
   "execution_count": 38,
   "metadata": {},
   "outputs": [],
   "source": [
    "def inv_db(X):\n",
    "    return 10**(X/10)"
   ]
  },
  {
   "cell_type": "code",
   "execution_count": 39,
   "metadata": {},
   "outputs": [],
   "source": [
    "def beta_channel(D):\n",
    "    \"\"\"\n",
    "    Returns the \n",
    "    \"\"\"\n",
    "    #Frequency carrier (LTE band 7)\n",
    "    f = 2.6e9\n",
    "    #Wavelength\n",
    "    l = 3e8/f\n",
    "    R = D\n",
    "    #Linear pathloss\n",
    "    L_lin =  l**2/(4*np.pi*R)**2\n",
    "    beta = L_lin\n",
    "    return beta\n"
   ]
  },
  {
   "cell_type": "code",
   "execution_count": 40,
   "metadata": {},
   "outputs": [],
   "source": [
    "def rand_channel(D, N):\n",
    "    \"\"\"\n",
    "    Returns the channel\n",
    "    \"\"\"\n",
    "    beta = beta_channel(D)\n",
    "    amp = np.sqrt(beta)/2\n",
    "    h = (np.random.randn(N) + 1j*np.random.randn(N)) * amp\n",
    "    return h\n"
   ]
  },
  {
   "cell_type": "code",
   "execution_count": 41,
   "metadata": {},
   "outputs": [],
   "source": [
    "def compute_snr(D, N):\n",
    "    h = rand_channel(D, N)\n",
    "    #Nomalizing for precoding\n",
    "    v = np.conj(h) / np.linalg.norm(h)\n",
    "    #Power of transmitted singnal\n",
    "    P_t = inv_db(50)\n",
    "    #Power of noise\n",
    "    sigma = inv_db(-127)\n",
    "    #Transmitting SNR\n",
    "    SNR_t = P_t/sigma\n",
    "    \n",
    "    SNR = np.abs(v.transpose() @ h)**2 * SNR_t\n",
    "    return SNR"
   ]
  },
  {
   "cell_type": "code",
   "execution_count": 42,
   "metadata": {},
   "outputs": [],
   "source": [
    "def snr_average(mc,D, N):\n",
    "    \"\"\"\n",
    "    Computes the average SNR of Monte Carlo realizations\n",
    "    \"\"\"\n",
    "    samples_snr = np.array([])\n",
    "    for i in range(mc):\n",
    "        samples_snr = np.append(samples_snr, compute_snr(D, N))\n",
    "    return np.mean(samples_snr)"
   ]
  },
  {
   "cell_type": "code",
   "execution_count": 45,
   "metadata": {},
   "outputs": [],
   "source": [
    "#Maximum range between BS and UE [meter] inner cell\n",
    "D_max = 150\n",
    "#BS localization\n",
    "R_bs = np.array([0,0,15])\n",
    "#Generate a random point for 1 UE position (a estimate height for the UE antenna = 1.5m)\n",
    "R_ue = np.array(np.append(np.sqrt(D_max)*np.random.randn(2), 1.5))\n",
    "#Distance between UE and BS\n",
    "R = np.linalg.norm(R_ue - R_bs)\n",
    "#Number of Monte Carlo realizations\n",
    "mc = 100\n",
    "#Number of resolution for plotting\n",
    "n = 30\n",
    "#Number of array's antennas\n",
    "N = 64"
   ]
  },
  {
   "cell_type": "code",
   "execution_count": 46,
   "metadata": {
    "scrolled": false
   },
   "outputs": [
    {
     "name": "stdout",
     "output_type": "stream",
     "text": [
      "location: [-12.33651867 -19.224998     1.5       ]\n",
      "SNR: 122.80575092202845\n"
     ]
    }
   ],
   "source": [
    "print('location: {}'.format(R_ue))\n",
    "#D = np.linalg.norm(R)\n",
    "print('SNR: {}'.format(db(snr_average(mc,R, N))))"
   ]
  }
 ],
 "metadata": {
  "kernelspec": {
   "display_name": "Python 3",
   "language": "python",
   "name": "python3"
  },
  "language_info": {
   "codemirror_mode": {
    "name": "ipython",
    "version": 3
   },
   "file_extension": ".py",
   "mimetype": "text/x-python",
   "name": "python",
   "nbconvert_exporter": "python",
   "pygments_lexer": "ipython3",
   "version": "3.8.3"
  }
 },
 "nbformat": 4,
 "nbformat_minor": 4
}
