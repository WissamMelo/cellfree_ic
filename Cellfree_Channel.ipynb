{
 "cells": [
  {
   "cell_type": "markdown",
   "metadata": {},
   "source": [
    "### Written by  [Gabriel Borges Pinheiro](github.com/gabrielbopi) & Wissam Melo"
   ]
  },
  {
   "cell_type": "code",
   "execution_count": 1,
   "metadata": {},
   "outputs": [],
   "source": [
    "import numpy as np\n",
    "from scipy.stats import norm\n",
    "import matplotlib.pyplot as plt\n",
    "%matplotlib inline\n",
    "\n",
    "# This import registers the 3D projection, but is otherwise unused.\n",
    "from mpl_toolkits.mplot3d import Axes3D  # noqa: F401 unused import"
   ]
  },
  {
   "cell_type": "markdown",
   "metadata": {},
   "source": [
    "#### Creating the test environment"
   ]
  },
  {
   "cell_type": "code",
   "execution_count": 2,
   "metadata": {},
   "outputs": [],
   "source": [
    "def bases(D, x, y, alt=15):\n",
    "    num_x = int(x/D)\n",
    "    num_y = int(y/D)\n",
    "    total = num_x*num_y\n",
    "    n = np.array([])\n",
    "    for i in range(num_y):\n",
    "        for j in range(num_x):\n",
    "            n = np.append(n, np.array([(j*D)+(D/2),(i*D)+(D/2),alt])) \n",
    "        \n",
    "    return total, n.reshape(total,3)\n",
    "\n",
    "def usuário(n, x, y):\n",
    "    UE = np.array([])\n",
    "    for i in range(n):\n",
    "        UE = np.append(UE,np.array([x*np.random.random(),y*np.random.random(),1.5]))\n",
    "    return UE.reshape(n,3)"
   ]
  },
  {
   "cell_type": "code",
   "execution_count": 3,
   "metadata": {},
   "outputs": [],
   "source": [
    "def BSs_per_UE(BS, UE, total):\n",
    "    endereços = []\n",
    "\n",
    "    for n in range(num_ue):\n",
    "        BS_UE = np.array([])\n",
    "        conectadas = 0\n",
    "        for i in range(total):\n",
    "            dist = np.linalg.norm(BS[i]-UE[n])\n",
    "            if dist <= 50:\n",
    "                conectadas += 1\n",
    "                BS_UE = np.append(BS_UE, BS[i])\n",
    "        BS_UE = np.append(BS_UE, 0)\n",
    "        endereços = np.append(endereços,BS_UE)\n",
    "  \n",
    "    # using list comprehension + zip() + slicing + enumerate() \n",
    "    # Split list into lists by particular value \n",
    "    size = len(endereços) \n",
    "    idx_list = [idx + 1 for idx, val in enumerate(endereços) if val == 0] \n",
    "    res = [endereços[i: j] for i, j in zip([0] + idx_list, idx_list + ([size] if idx_list[-1] != size else []))]\n",
    "    \n",
    "    for i in range(len(res)):\n",
    "        indices = np.where(res[i]==0)\n",
    "        res[i] = np.delete(res[i], indices)\n",
    "        res[i] = res[i].reshape(int((res[i].shape[0])/3),3)\n",
    "    res = np.array(res)\n",
    "    return res"
   ]
  },
  {
   "cell_type": "code",
   "execution_count": 4,
   "metadata": {},
   "outputs": [],
   "source": [
    "def UEs_per_BS(BS, UE, total):\n",
    "    positions = []\n",
    "\n",
    "    for n in range(total):\n",
    "        BS_UE = np.array([])\n",
    "        conectados = 0\n",
    "        for i in range(num_ue):\n",
    "            dist = np.linalg.norm(BS[n]-UE[i])\n",
    "            if dist <= 50:\n",
    "                conectados += 1\n",
    "                BS_UE = np.append(BS_UE, UE[i])\n",
    "        BS_UE = np.append(BS_UE, 0)\n",
    "        positions = np.append(positions,BS_UE)\n",
    "    \n",
    "    # using list comprehension + zip() + slicing + enumerate() \n",
    "    # Split list into lists by particular value \n",
    "    size = len(positions) \n",
    "    idx_list = [idx + 1 for idx, val in enumerate(positions) if val == 0]\n",
    "    antenna = [positions[i: j] for i, j in zip([0] + idx_list, idx_list + ([size] if idx_list[-1] != size else []))] \n",
    "\n",
    "    for i in range(len(antenna)):\n",
    "        indices = np.where(antenna[i]==0)\n",
    "        antenna[i] = np.delete(antenna[i], indices)\n",
    "        antenna[i] = antenna[i].reshape(int((antenna[i].shape[0])/3),3)\n",
    "    return antenna"
   ]
  },
  {
   "cell_type": "markdown",
   "metadata": {},
   "source": [
    "##### Generating BSs and UEs"
   ]
  },
  {
   "cell_type": "code",
   "execution_count": 11,
   "metadata": {},
   "outputs": [],
   "source": [
    "#Espaçamento entre cada BS\n",
    "gap_bs = 50 #m\n",
    "#Number of users\n",
    "num_ue = 3\n",
    "\n",
    "total,BS = bases(gap_bs, 200, 100)\n",
    "UE = usuário(num_ue, 200, 100)\n",
    "UEs_antenna = UEs_per_BS(BS, UE, total)\n",
    "BSUE = BSs_per_UE(BS, UE, total)"
   ]
  },
  {
   "cell_type": "code",
   "execution_count": 12,
   "metadata": {},
   "outputs": [
    {
     "data": {
      "text/plain": [
       "array([[ 25.,  25.,  15.],\n",
       "       [ 75.,  25.,  15.],\n",
       "       [125.,  25.,  15.],\n",
       "       [175.,  25.,  15.],\n",
       "       [ 25.,  75.,  15.],\n",
       "       [ 75.,  75.,  15.],\n",
       "       [125.,  75.,  15.],\n",
       "       [175.,  75.,  15.]])"
      ]
     },
     "execution_count": 12,
     "metadata": {},
     "output_type": "execute_result"
    }
   ],
   "source": [
    "BS"
   ]
  },
  {
   "cell_type": "code",
   "execution_count": 13,
   "metadata": {},
   "outputs": [
    {
     "data": {
      "text/plain": [
       "array([[137.3608334 ,  80.93288074,   1.5       ],\n",
       "       [119.25618995,   0.54156493,   1.5       ],\n",
       "       [120.60436346,  39.05013771,   1.5       ]])"
      ]
     },
     "execution_count": 13,
     "metadata": {},
     "output_type": "execute_result"
    }
   ],
   "source": [
    "UE"
   ]
  },
  {
   "cell_type": "code",
   "execution_count": 14,
   "metadata": {},
   "outputs": [
    {
     "data": {
      "text/plain": [
       "[array([], shape=(0, 3), dtype=float64),\n",
       " array([[120.60436346,  39.05013771,   1.5       ]]),\n",
       " array([[119.25618995,   0.54156493,   1.5       ],\n",
       "        [120.60436346,  39.05013771,   1.5       ]]),\n",
       " array([], shape=(0, 3), dtype=float64),\n",
       " array([], shape=(0, 3), dtype=float64),\n",
       " array([], shape=(0, 3), dtype=float64),\n",
       " array([[137.3608334 ,  80.93288074,   1.5       ],\n",
       "        [120.60436346,  39.05013771,   1.5       ]]),\n",
       " array([[137.3608334 ,  80.93288074,   1.5       ]])]"
      ]
     },
     "execution_count": 14,
     "metadata": {},
     "output_type": "execute_result"
    }
   ],
   "source": [
    "UEs_antenna"
   ]
  },
  {
   "cell_type": "code",
   "execution_count": 15,
   "metadata": {},
   "outputs": [
    {
     "data": {
      "text/plain": [
       "2"
      ]
     },
     "execution_count": 15,
     "metadata": {},
     "output_type": "execute_result"
    }
   ],
   "source": [
    "UEs_antenna[2].shape[0]"
   ]
  },
  {
   "cell_type": "code",
   "execution_count": 16,
   "metadata": {},
   "outputs": [
    {
     "data": {
      "text/plain": [
       "array([array([[125.,  75.,  15.],\n",
       "       [175.,  75.,  15.]]),\n",
       "       array([[125.,  25.,  15.]]),\n",
       "       array([[ 75.,  25.,  15.],\n",
       "       [125.,  25.,  15.],\n",
       "       [125.,  75.,  15.]])], dtype=object)"
      ]
     },
     "execution_count": 16,
     "metadata": {},
     "output_type": "execute_result"
    }
   ],
   "source": [
    "BSUE"
   ]
  },
  {
   "cell_type": "markdown",
   "metadata": {},
   "source": [
    "#### Calculating the parameters"
   ]
  },
  {
   "cell_type": "code",
   "execution_count": 17,
   "metadata": {},
   "outputs": [],
   "source": [
    "def db(X):\n",
    "    return 10 * np.log10(np.abs(X))\n",
    "def inv_db(X):\n",
    "    return 10**(X/10)\n",
    "def dbm(X):\n",
    "    return 10 * np.log10(np.abs(X)/(1e-3))\n",
    "def inv_dbm(X):\n",
    "    return (1e-3) * 10**(X/10)"
   ]
  },
  {
   "cell_type": "code",
   "execution_count": 45,
   "metadata": {},
   "outputs": [],
   "source": [
    "def β_channel(D):\n",
    "    \"\"\"\n",
    "    Returns the \n",
    "    \"\"\"\n",
    "    #Carrier frequency (LTE band 7)\n",
    "    f = 2.6e9\n",
    "    #Wavelength\n",
    "    λ = 3e8/f\n",
    "    R = D\n",
    "    #Linear pathloss\n",
    "    L_lin =  (λ/(4*np.pi*R))**2\n",
    "    β = L_lin\n",
    "    return β\n",
    "\n",
    "def rand_channel(D, N):\n",
    "    \"\"\"\n",
    "    Returns the channel\n",
    "    \"\"\"\n",
    "    β = β_channel(D)\n",
    "    ampl = np.sqrt(β)/2\n",
    "    h = (np.random.randn(N) + 1j*np.random.randn(N)) * ampl\n",
    "    return h\n",
    "\n",
    "def ch_user(N, num_ue, UE, total, BSUE):\n",
    "    \"\"\"\n",
    "    Retorna uma matriz 3D, onde h[UE][BS]{stream}\n",
    "    \"\"\"\n",
    "    \n",
    "    h = np.zeros((num_ue,total,N),dtype = 'complex_')\n",
    "    for i in range(num_ue):\n",
    "        for j in range(BSUE[i].shape[0]):\n",
    "            R = np.linalg.norm(UE[i] - BSUE[i][j])\n",
    "            h[i][j] = rand_channel(R, N)\n",
    "    return h\n",
    "\n",
    "\n",
    "def channel_user(N, UE, num_ue, BSs_per_UE):\n",
    "    \"\"\"\n",
    "    Retorna uma matriz 3D, onde h[UE][BS]{stream}\n",
    "    \"\"\"\n",
    "    \n",
    "    num_ue = BSs_per_UE.shape[0]\n",
    "    h = np.array([])\n",
    "    y = np.array([])\n",
    "    for i in range(num_ue):\n",
    "        for j in range(BSs_per_UE[i].shape[0]):\n",
    "            R = np.linalg.norm(UE[i] - BSs_per_UE[i][j])\n",
    "            y = rand_channel(R, N)\n",
    "            h = np.append(h, y)\n",
    "        h = np.append(h, 0)\n",
    "    \n",
    "    size = len(h) \n",
    "    idx_list = [idx + 1 for idx, val in enumerate(h) if val == 0] \n",
    "    h = [h[i: j] for i, j in zip([0] + idx_list, idx_list + ([size] if idx_list[-1] != size else []))]\n",
    "    for i in range(len(h)):\n",
    "        indices = np.where(h[i]==0)\n",
    "        h[i] = np.delete(h[i], indices)\n",
    "        #h[i] = h[i].reshape(int((h[i].shape[0])/N),N)\n",
    "    h = np.array(h)\n",
    "    \n",
    "    return h\n",
    "\n",
    "def get_beamforming(h, P_dBm):\n",
    "    np.seterr(divide='ignore', invalid='ignore')\n",
    "    p = inv_dbm(P_dBm)\n",
    "    v = map(lambda x: np.sqrt(p)*(np.conjugate(x)/np.linalg.norm(x)), h)\n",
    "    v = list(v)\n",
    "    return np.array(v)"
   ]
  },
  {
   "cell_type": "code",
   "execution_count": 46,
   "metadata": {},
   "outputs": [],
   "source": [
    "#Numero de antenas no arranjo\n",
    "N = 5\n",
    "P_dBm = 5\n",
    "#h = channel_user(N, UE, total, BSUE)\n",
    "H = ch_user(N, num_ue, BS, total, UEs_antenna)\n",
    "v = get_beamforming(H, P_dBm)"
   ]
  },
  {
   "cell_type": "code",
   "execution_count": 47,
   "metadata": {},
   "outputs": [
    {
     "data": {
      "text/plain": [
       "(3, 8, 5)"
      ]
     },
     "execution_count": 47,
     "metadata": {},
     "output_type": "execute_result"
    }
   ],
   "source": [
    "H.shape"
   ]
  },
  {
   "cell_type": "code",
   "execution_count": 51,
   "metadata": {},
   "outputs": [
    {
     "data": {
      "text/plain": [
       "2"
      ]
     },
     "execution_count": 51,
     "metadata": {},
     "output_type": "execute_result"
    }
   ],
   "source": [
    "BSUE[0].shape[0]"
   ]
  },
  {
   "cell_type": "code",
   "execution_count": 48,
   "metadata": {},
   "outputs": [
    {
     "data": {
      "text/plain": [
       "array([[0.+0.j, 0.+0.j, 0.+0.j, 0.+0.j, 0.+0.j],\n",
       "       [0.+0.j, 0.+0.j, 0.+0.j, 0.+0.j, 0.+0.j],\n",
       "       [0.+0.j, 0.+0.j, 0.+0.j, 0.+0.j, 0.+0.j],\n",
       "       [0.+0.j, 0.+0.j, 0.+0.j, 0.+0.j, 0.+0.j],\n",
       "       [0.+0.j, 0.+0.j, 0.+0.j, 0.+0.j, 0.+0.j],\n",
       "       [0.+0.j, 0.+0.j, 0.+0.j, 0.+0.j, 0.+0.j],\n",
       "       [0.+0.j, 0.+0.j, 0.+0.j, 0.+0.j, 0.+0.j],\n",
       "       [0.+0.j, 0.+0.j, 0.+0.j, 0.+0.j, 0.+0.j]])"
      ]
     },
     "execution_count": 48,
     "metadata": {},
     "output_type": "execute_result"
    }
   ],
   "source": [
    "H[0]"
   ]
  },
  {
   "cell_type": "code",
   "execution_count": 42,
   "metadata": {},
   "outputs": [
    {
     "data": {
      "text/plain": [
       "array([ 7.44221158e-05-9.79328026e-05j,  1.43132287e-06-9.09027300e-05j,\n",
       "       -9.40447160e-06+1.48069302e-04j,  3.80242609e-05-9.97019567e-05j,\n",
       "        2.25067243e-05+1.93370364e-05j,  0.00000000e+00+0.00000000e+00j,\n",
       "        0.00000000e+00+0.00000000e+00j,  0.00000000e+00+0.00000000e+00j,\n",
       "        0.00000000e+00+0.00000000e+00j,  0.00000000e+00+0.00000000e+00j,\n",
       "        0.00000000e+00+0.00000000e+00j,  0.00000000e+00+0.00000000e+00j,\n",
       "        0.00000000e+00+0.00000000e+00j,  0.00000000e+00+0.00000000e+00j,\n",
       "        0.00000000e+00+0.00000000e+00j,  0.00000000e+00+0.00000000e+00j,\n",
       "        0.00000000e+00+0.00000000e+00j,  0.00000000e+00+0.00000000e+00j,\n",
       "        0.00000000e+00+0.00000000e+00j,  0.00000000e+00+0.00000000e+00j,\n",
       "        0.00000000e+00+0.00000000e+00j,  0.00000000e+00+0.00000000e+00j,\n",
       "        0.00000000e+00+0.00000000e+00j,  0.00000000e+00+0.00000000e+00j,\n",
       "        0.00000000e+00+0.00000000e+00j,  0.00000000e+00+0.00000000e+00j,\n",
       "        0.00000000e+00+0.00000000e+00j,  0.00000000e+00+0.00000000e+00j,\n",
       "        0.00000000e+00+0.00000000e+00j,  0.00000000e+00+0.00000000e+00j,\n",
       "        0.00000000e+00+0.00000000e+00j,  0.00000000e+00+0.00000000e+00j,\n",
       "        0.00000000e+00+0.00000000e+00j,  0.00000000e+00+0.00000000e+00j,\n",
       "        0.00000000e+00+0.00000000e+00j,  0.00000000e+00+0.00000000e+00j,\n",
       "        0.00000000e+00+0.00000000e+00j,  0.00000000e+00+0.00000000e+00j,\n",
       "        0.00000000e+00+0.00000000e+00j,  0.00000000e+00+0.00000000e+00j])"
      ]
     },
     "execution_count": 42,
     "metadata": {},
     "output_type": "execute_result"
    }
   ],
   "source": [
    "H[1].reshape((40))"
   ]
  },
  {
   "cell_type": "code",
   "execution_count": 40,
   "metadata": {},
   "outputs": [
    {
     "data": {
      "text/plain": [
       "<numpy.vectorize at 0x207d054c9c8>"
      ]
     },
     "execution_count": 40,
     "metadata": {},
     "output_type": "execute_result"
    }
   ],
   "source": [
    "o"
   ]
  },
  {
   "cell_type": "code",
   "execution_count": 18,
   "metadata": {},
   "outputs": [
    {
     "data": {
      "text/plain": [
       "(3, 10)"
      ]
     },
     "execution_count": 18,
     "metadata": {},
     "output_type": "execute_result"
    }
   ],
   "source": [
    "h.shape"
   ]
  },
  {
   "cell_type": "code",
   "execution_count": 18,
   "metadata": {},
   "outputs": [
    {
     "data": {
      "text/plain": [
       "array([[[ 2.14299958e-02+0.0217455j , -3.26124279e-03+0.00212036j,\n",
       "         -4.16084184e-02-0.00129152j,  1.67803760e-02-0.00624243j,\n",
       "         -3.96937034e-05+0.01271045j],\n",
       "        [ 0.00000000e+00+0.j        ,  0.00000000e+00+0.j        ,\n",
       "          0.00000000e+00+0.j        ,  0.00000000e+00+0.j        ,\n",
       "          0.00000000e+00+0.j        ],\n",
       "        [ 0.00000000e+00+0.j        ,  0.00000000e+00+0.j        ,\n",
       "          0.00000000e+00+0.j        ,  0.00000000e+00+0.j        ,\n",
       "          0.00000000e+00+0.j        ]],\n",
       "\n",
       "       [[            nan       +nanj,             nan       +nanj,\n",
       "                     nan       +nanj,             nan       +nanj,\n",
       "                     nan       +nanj],\n",
       "        [            nan       +nanj,             nan       +nanj,\n",
       "                     nan       +nanj,             nan       +nanj,\n",
       "                     nan       +nanj],\n",
       "        [            nan       +nanj,             nan       +nanj,\n",
       "                     nan       +nanj,             nan       +nanj,\n",
       "                     nan       +nanj]],\n",
       "\n",
       "       [[            nan       +nanj,             nan       +nanj,\n",
       "                     nan       +nanj,             nan       +nanj,\n",
       "                     nan       +nanj],\n",
       "        [            nan       +nanj,             nan       +nanj,\n",
       "                     nan       +nanj,             nan       +nanj,\n",
       "                     nan       +nanj],\n",
       "        [            nan       +nanj,             nan       +nanj,\n",
       "                     nan       +nanj,             nan       +nanj,\n",
       "                     nan       +nanj]],\n",
       "\n",
       "       [[ 3.36397450e-03-0.01276712j, -1.82498046e-02+0.0350386j ,\n",
       "         -2.15762879e-02+0.00787633j,  1.39468348e-02-0.00929672j,\n",
       "         -1.80200745e-02-0.00340066j],\n",
       "        [ 2.95820880e-03-0.00049674j, -4.63940584e-03-0.00185952j,\n",
       "         -4.81453056e-03+0.01178713j, -5.79974251e-03-0.00643493j,\n",
       "         -1.45972170e-03-0.00302111j],\n",
       "        [ 0.00000000e+00+0.j        ,  0.00000000e+00+0.j        ,\n",
       "          0.00000000e+00+0.j        ,  0.00000000e+00+0.j        ,\n",
       "          0.00000000e+00+0.j        ]],\n",
       "\n",
       "       [[            nan       +nanj,             nan       +nanj,\n",
       "                     nan       +nanj,             nan       +nanj,\n",
       "                     nan       +nanj],\n",
       "        [            nan       +nanj,             nan       +nanj,\n",
       "                     nan       +nanj,             nan       +nanj,\n",
       "                     nan       +nanj],\n",
       "        [            nan       +nanj,             nan       +nanj,\n",
       "                     nan       +nanj,             nan       +nanj,\n",
       "                     nan       +nanj]],\n",
       "\n",
       "       [[            nan       +nanj,             nan       +nanj,\n",
       "                     nan       +nanj,             nan       +nanj,\n",
       "                     nan       +nanj],\n",
       "        [            nan       +nanj,             nan       +nanj,\n",
       "                     nan       +nanj,             nan       +nanj,\n",
       "                     nan       +nanj],\n",
       "        [            nan       +nanj,             nan       +nanj,\n",
       "                     nan       +nanj,             nan       +nanj,\n",
       "                     nan       +nanj]],\n",
       "\n",
       "       [[            nan       +nanj,             nan       +nanj,\n",
       "                     nan       +nanj,             nan       +nanj,\n",
       "                     nan       +nanj],\n",
       "        [            nan       +nanj,             nan       +nanj,\n",
       "                     nan       +nanj,             nan       +nanj,\n",
       "                     nan       +nanj],\n",
       "        [            nan       +nanj,             nan       +nanj,\n",
       "                     nan       +nanj,             nan       +nanj,\n",
       "                     nan       +nanj]],\n",
       "\n",
       "       [[ 2.39598423e-02-0.00413066j,  1.72065902e-02-0.01150424j,\n",
       "         -6.87427192e-03-0.01647454j, -3.40013830e-02-0.01252347j,\n",
       "         -1.25691824e-02-0.01879215j],\n",
       "        [ 0.00000000e+00+0.j        ,  0.00000000e+00+0.j        ,\n",
       "          0.00000000e+00+0.j        ,  0.00000000e+00+0.j        ,\n",
       "          0.00000000e+00+0.j        ],\n",
       "        [ 0.00000000e+00+0.j        ,  0.00000000e+00+0.j        ,\n",
       "          0.00000000e+00+0.j        ,  0.00000000e+00+0.j        ,\n",
       "          0.00000000e+00+0.j        ]]])"
      ]
     },
     "execution_count": 18,
     "metadata": {},
     "output_type": "execute_result"
    }
   ],
   "source": [
    "v"
   ]
  },
  {
   "cell_type": "code",
   "execution_count": 29,
   "metadata": {},
   "outputs": [
    {
     "data": {
      "text/plain": [
       "(3, 5)"
      ]
     },
     "execution_count": 29,
     "metadata": {},
     "output_type": "execute_result"
    }
   ],
   "source": []
  },
  {
   "cell_type": "code",
   "execution_count": 19,
   "metadata": {},
   "outputs": [],
   "source": [
    "#Band of signal\n",
    "B = 1e6 #Hz\n",
    "#Power of noise (-127dBm is average)\n",
    "N0 = inv_dbm(-127)\n",
    "σ = B*N0"
   ]
  },
  {
   "cell_type": "code",
   "execution_count": 32,
   "metadata": {},
   "outputs": [
    {
     "data": {
      "text/plain": [
       "1.9952623149688826e-10"
      ]
     },
     "execution_count": 32,
     "metadata": {},
     "output_type": "execute_result"
    }
   ],
   "source": [
    "σ"
   ]
  },
  {
   "cell_type": "code",
   "execution_count": 30,
   "metadata": {},
   "outputs": [],
   "source": [
    "def sinr(h, V, j, σ):\n",
    "    \n",
    "    num = np.abs(V[j].transpose()@h)**2\n",
    "    print(num)\n",
    "    print(\"--------------------\")\n",
    "    den = np.zeros(num.shape)\n",
    "    for x in range(V.shape[0]):\n",
    "        #if V[x]:\n",
    "        if x!=j:\n",
    "            #den = np.add(den, np.abs(V[x].transpose()@h)**2)\n",
    "            den += np.abs(V[x].transpose()@h)**2\n",
    "            print(den)\n",
    "    return (num/(den+σ))"
   ]
  },
  {
   "cell_type": "code",
   "execution_count": 33,
   "metadata": {},
   "outputs": [
    {
     "data": {
      "text/plain": [
       "array([[ 2.19950410e-04-2.23188650e-04j, -3.34723204e-05-2.17626761e-05j,\n",
       "        -4.27055084e-04+1.32557312e-05j,  1.72228245e-04+6.40702386e-05j,\n",
       "        -4.07403080e-07-1.30455840e-04j],\n",
       "       [ 0.00000000e+00+0.00000000e+00j,  0.00000000e+00+0.00000000e+00j,\n",
       "         0.00000000e+00+0.00000000e+00j,  0.00000000e+00+0.00000000e+00j,\n",
       "         0.00000000e+00+0.00000000e+00j],\n",
       "       [ 0.00000000e+00+0.00000000e+00j,  0.00000000e+00+0.00000000e+00j,\n",
       "         0.00000000e+00+0.00000000e+00j,  0.00000000e+00+0.00000000e+00j,\n",
       "         0.00000000e+00+0.00000000e+00j]])"
      ]
     },
     "execution_count": 33,
     "metadata": {},
     "output_type": "execute_result"
    }
   ],
   "source": [
    "H[0]"
   ]
  },
  {
   "cell_type": "code",
   "execution_count": 31,
   "metadata": {
    "scrolled": true
   },
   "outputs": [
    {
     "name": "stdout",
     "output_type": "stream",
     "text": [
      "[[9.15252956e-11 1.48579539e-12 1.70158600e-10 3.14751357e-11\n",
      "  1.58635056e-11]\n",
      " [1.48579539e-12 2.41199760e-14 2.76230589e-12 5.10958323e-13\n",
      "  2.57523598e-13]\n",
      " [1.70158600e-10 2.76230589e-12 3.16349146e-10 5.85167739e-11\n",
      "  2.94925232e-11]\n",
      " [3.14751357e-11 5.10958323e-13 5.85167739e-11 1.08241570e-11\n",
      "  5.45538792e-12]\n",
      " [1.58635056e-11 2.57523598e-13 2.94925232e-11 5.45538792e-12\n",
      "  2.74952196e-12]]\n",
      "--------------------\n",
      "[[nan nan nan nan nan]\n",
      " [nan nan nan nan nan]\n",
      " [nan nan nan nan nan]\n",
      " [nan nan nan nan nan]\n",
      " [nan nan nan nan nan]]\n",
      "[[nan nan nan nan nan]\n",
      " [nan nan nan nan nan]\n",
      " [nan nan nan nan nan]\n",
      " [nan nan nan nan nan]\n",
      " [nan nan nan nan nan]]\n",
      "[[nan nan nan nan nan]\n",
      " [nan nan nan nan nan]\n",
      " [nan nan nan nan nan]\n",
      " [nan nan nan nan nan]\n",
      " [nan nan nan nan nan]]\n",
      "[[nan nan nan nan nan]\n",
      " [nan nan nan nan nan]\n",
      " [nan nan nan nan nan]\n",
      " [nan nan nan nan nan]\n",
      " [nan nan nan nan nan]]\n",
      "[[nan nan nan nan nan]\n",
      " [nan nan nan nan nan]\n",
      " [nan nan nan nan nan]\n",
      " [nan nan nan nan nan]\n",
      " [nan nan nan nan nan]]\n",
      "[[nan nan nan nan nan]\n",
      " [nan nan nan nan nan]\n",
      " [nan nan nan nan nan]\n",
      " [nan nan nan nan nan]\n",
      " [nan nan nan nan nan]]\n",
      "[[nan nan nan nan nan]\n",
      " [nan nan nan nan nan]\n",
      " [nan nan nan nan nan]\n",
      " [nan nan nan nan nan]\n",
      " [nan nan nan nan nan]]\n"
     ]
    }
   ],
   "source": [
    "j = 0\n",
    "s_inr = sinr(H[j], v, j, σ)"
   ]
  },
  {
   "cell_type": "code",
   "execution_count": 30,
   "metadata": {},
   "outputs": [
    {
     "data": {
      "text/plain": [
       "array([[nan, nan, nan, nan, nan],\n",
       "       [nan, nan, nan, nan, nan],\n",
       "       [nan, nan, nan, nan, nan],\n",
       "       [nan, nan, nan, nan, nan],\n",
       "       [nan, nan, nan, nan, nan]])"
      ]
     },
     "execution_count": 30,
     "metadata": {},
     "output_type": "execute_result"
    }
   ],
   "source": [
    "s_inr"
   ]
  },
  {
   "cell_type": "code",
   "execution_count": 26,
   "metadata": {},
   "outputs": [
    {
     "name": "stdout",
     "output_type": "stream",
     "text": [
      "4.192333701812609\n"
     ]
    }
   ],
   "source": [
    "print(db(s_inr))"
   ]
  },
  {
   "cell_type": "code",
   "execution_count": 27,
   "metadata": {},
   "outputs": [],
   "source": [
    "S = np.zeros(len(UE))\n",
    "for i in range(len(UE)):\n",
    "    S[i] = sinr(H[i], V, i, σ)\n"
   ]
  },
  {
   "cell_type": "code",
   "execution_count": 31,
   "metadata": {},
   "outputs": [
    {
     "name": "stdout",
     "output_type": "stream",
     "text": [
      "6.510437057826692\n"
     ]
    }
   ],
   "source": [
    "print(np.sum(np.log2(S+1)))\n",
    "#C"
   ]
  },
  {
   "cell_type": "code",
   "execution_count": 35,
   "metadata": {},
   "outputs": [
    {
     "data": {
      "text/plain": [
       "8"
      ]
     },
     "execution_count": 35,
     "metadata": {},
     "output_type": "execute_result"
    }
   ],
   "source": [
    "BS.shape[0]"
   ]
  },
  {
   "cell_type": "code",
   "execution_count": null,
   "metadata": {},
   "outputs": [],
   "source": [
    "def sinr_mc(num_ue, N, BS, P_dBm):\n",
    "    \"\"\"\n",
    "    Gerar os canais, Com mesma BS e gerando diferentes UE calculando H,V,sinr e C()\n",
    "    \"\"\"\n",
    "    total = BS.shape[0]\n",
    "    UE = usuário(n, x, y)\n",
    "    UEs_antenna = UEs_per_BS(BS, UE, total)\n",
    "    \n",
    "    H = ch_user(N, num_ue, BS, total, UEs_antenna)\n",
    "    V = get_beamforming(H, P_dBm)\n",
    "    S = np.zeros(len(UE))\n",
    "    for i in range(len(UE)):\n",
    "        S[i] = sinr(H[i], V, i, σ)\n",
    "    C = np.sum(np.log2(S+1))\n",
    "    \n",
    "    return C, sinr"
   ]
  },
  {
   "cell_type": "code",
   "execution_count": 34,
   "metadata": {},
   "outputs": [
    {
     "name": "stdout",
     "output_type": "stream",
     "text": [
      "[ 2.70684984  0.62813271  0.90796945  0.50382575  0.65111795 -0.31931804\n",
      " -0.84807698  0.60596535 -2.01816824  0.74012206]\n"
     ]
    }
   ],
   "source": [
    "for i in range(mc):\n",
    "    np.random.seed(i)\n",
    "    C, sinr = sinr_mc(num_ue, N, BS, P_dBm)"
   ]
  },
  {
   "cell_type": "markdown",
   "metadata": {},
   "source": [
    "##### Main parameters"
   ]
  },
  {
   "cell_type": "code",
   "execution_count": 78,
   "metadata": {},
   "outputs": [],
   "source": [
    "#Numero de antenas no arranjo\n",
    "N = 5\n",
    "\n",
    "#Tamanho das torres de BS\n",
    "bs_height = 15 #m\n",
    "#Espaçamento entre cada BS\n",
    "gap_bs = 50 #m\n",
    "\n",
    "#Potencia de cada base\n",
    "P_t = 40 #dBm\n",
    "\n",
    "#Number of Monte Carlo realizations\n",
    "mc = 1000"
   ]
  },
  {
   "cell_type": "markdown",
   "metadata": {},
   "source": [
    "#### Plotting a map"
   ]
  },
  {
   "cell_type": "code",
   "execution_count": 84,
   "metadata": {
    "scrolled": true
   },
   "outputs": [
    {
     "ename": "IndexError",
     "evalue": "index 2 is out of bounds for axis 0 with size 1",
     "output_type": "error",
     "traceback": [
      "\u001b[1;31m---------------------------------------------------------------------------\u001b[0m",
      "\u001b[1;31mIndexError\u001b[0m                                Traceback (most recent call last)",
      "\u001b[1;32m<ipython-input-84-9e23c5311df9>\u001b[0m in \u001b[0;36m<module>\u001b[1;34m\u001b[0m\n\u001b[0;32m     13\u001b[0m     \u001b[1;32mfor\u001b[0m \u001b[0mk\u001b[0m \u001b[1;32min\u001b[0m \u001b[0mrange\u001b[0m\u001b[1;33m(\u001b[0m\u001b[0mmc\u001b[0m\u001b[1;33m)\u001b[0m\u001b[1;33m:\u001b[0m\u001b[1;33m\u001b[0m\u001b[1;33m\u001b[0m\u001b[0m\n\u001b[0;32m     14\u001b[0m         \u001b[0mUE\u001b[0m \u001b[1;33m=\u001b[0m \u001b[0musuário\u001b[0m\u001b[1;33m(\u001b[0m\u001b[0mnum_ue\u001b[0m\u001b[1;33m,\u001b[0m \u001b[1;36m200\u001b[0m\u001b[1;33m,\u001b[0m \u001b[1;36m100\u001b[0m\u001b[1;33m)\u001b[0m\u001b[1;33m\u001b[0m\u001b[1;33m\u001b[0m\u001b[0m\n\u001b[1;32m---> 15\u001b[1;33m         \u001b[0mh\u001b[0m \u001b[1;33m=\u001b[0m \u001b[0mchannel_user\u001b[0m\u001b[1;33m(\u001b[0m\u001b[0mN\u001b[0m\u001b[1;33m,\u001b[0m \u001b[0mUE\u001b[0m\u001b[1;33m,\u001b[0m \u001b[0mres\u001b[0m\u001b[1;33m,\u001b[0m \u001b[0mi\u001b[0m\u001b[1;33m)\u001b[0m\u001b[1;33m\u001b[0m\u001b[1;33m\u001b[0m\u001b[0m\n\u001b[0m\u001b[0;32m     16\u001b[0m         \u001b[0mw\u001b[0m \u001b[1;33m=\u001b[0m \u001b[0mget_beamforming\u001b[0m\u001b[1;33m(\u001b[0m\u001b[0mh\u001b[0m\u001b[1;33m)\u001b[0m\u001b[1;33m\u001b[0m\u001b[1;33m\u001b[0m\u001b[0m\n\u001b[0;32m     17\u001b[0m         \u001b[0mSINR\u001b[0m \u001b[1;33m=\u001b[0m \u001b[0msinr\u001b[0m\u001b[1;33m(\u001b[0m\u001b[0mh\u001b[0m\u001b[1;33m,\u001b[0m \u001b[0mw\u001b[0m\u001b[1;33m,\u001b[0m \u001b[0mj\u001b[0m\u001b[1;33m,\u001b[0m \u001b[0mi\u001b[0m\u001b[1;33m,\u001b[0m \u001b[0mσ\u001b[0m\u001b[1;33m)\u001b[0m\u001b[1;33m\u001b[0m\u001b[1;33m\u001b[0m\u001b[0m\n",
      "\u001b[1;32m<ipython-input-71-e9bd9ac4ed83>\u001b[0m in \u001b[0;36mchannel_user\u001b[1;34m(N, usuario, res, i)\u001b[0m\n\u001b[0;32m     31\u001b[0m     \u001b[0my\u001b[0m \u001b[1;33m=\u001b[0m \u001b[0mnp\u001b[0m\u001b[1;33m.\u001b[0m\u001b[0marray\u001b[0m\u001b[1;33m(\u001b[0m\u001b[1;33m[\u001b[0m\u001b[1;33m]\u001b[0m\u001b[1;33m)\u001b[0m\u001b[1;33m\u001b[0m\u001b[1;33m\u001b[0m\u001b[0m\n\u001b[0;32m     32\u001b[0m     \u001b[1;32mfor\u001b[0m \u001b[0mx\u001b[0m \u001b[1;32min\u001b[0m \u001b[0mrange\u001b[0m\u001b[1;33m(\u001b[0m\u001b[0mres\u001b[0m\u001b[1;33m[\u001b[0m\u001b[0mi\u001b[0m\u001b[1;33m]\u001b[0m\u001b[1;33m.\u001b[0m\u001b[0mshape\u001b[0m\u001b[1;33m[\u001b[0m\u001b[1;36m0\u001b[0m\u001b[1;33m]\u001b[0m\u001b[1;33m)\u001b[0m\u001b[1;33m:\u001b[0m\u001b[1;33m\u001b[0m\u001b[1;33m\u001b[0m\u001b[0m\n\u001b[1;32m---> 33\u001b[1;33m         \u001b[0mR\u001b[0m \u001b[1;33m=\u001b[0m \u001b[0mnp\u001b[0m\u001b[1;33m.\u001b[0m\u001b[0mlinalg\u001b[0m\u001b[1;33m.\u001b[0m\u001b[0mnorm\u001b[0m\u001b[1;33m(\u001b[0m\u001b[0musuario\u001b[0m\u001b[1;33m[\u001b[0m\u001b[0mi\u001b[0m\u001b[1;33m]\u001b[0m \u001b[1;33m-\u001b[0m \u001b[0mres\u001b[0m\u001b[1;33m[\u001b[0m\u001b[0mi\u001b[0m\u001b[1;33m]\u001b[0m\u001b[1;33m[\u001b[0m\u001b[0mx\u001b[0m\u001b[1;33m]\u001b[0m\u001b[1;33m)\u001b[0m\u001b[1;33m\u001b[0m\u001b[1;33m\u001b[0m\u001b[0m\n\u001b[0m\u001b[0;32m     34\u001b[0m         \u001b[0my\u001b[0m \u001b[1;33m=\u001b[0m \u001b[0mrand_channel\u001b[0m\u001b[1;33m(\u001b[0m\u001b[0mR\u001b[0m\u001b[1;33m,\u001b[0m \u001b[0mN\u001b[0m\u001b[1;33m)\u001b[0m\u001b[1;33m\u001b[0m\u001b[1;33m\u001b[0m\u001b[0m\n\u001b[0;32m     35\u001b[0m         \u001b[0mh\u001b[0m \u001b[1;33m=\u001b[0m \u001b[0mnp\u001b[0m\u001b[1;33m.\u001b[0m\u001b[0mappend\u001b[0m\u001b[1;33m(\u001b[0m\u001b[0mh\u001b[0m\u001b[1;33m,\u001b[0m \u001b[0my\u001b[0m\u001b[1;33m)\u001b[0m\u001b[1;33m\u001b[0m\u001b[1;33m\u001b[0m\u001b[0m\n",
      "\u001b[1;31mIndexError\u001b[0m: index 2 is out of bounds for axis 0 with size 1"
     ]
    },
    {
     "data": {
      "image/png": "[encoded data removed]",
      "text/plain": [
       "<Figure size 792x360 with 1 Axes>"
      ]
     },
     "metadata": {
      "needs_background": "light"
     },
     "output_type": "display_data"
    }
   ],
   "source": [
    "#total,BS = bases(50, 200, 100)\n",
    "#número de UEs\n",
    "max_UE = 4\n",
    "N_ue = np.arange(max_UE)+1\n",
    "\n",
    "#Calculando a capacidade de canal para UE recebendo sinal de todas as BS:\n",
    "p = np.ones(max_UE)\n",
    "p = p * inv_dbm(P_t)\n",
    "\n",
    "fig, ax = plt.subplots(figsize = (11,5))\n",
    "for num_ue in N_ue:\n",
    "    C = np.zeros(mc)\n",
    "    for k in range(mc):\n",
    "        UE = usuário(num_ue, 200, 100)\n",
    "        h = channel_user(N, UE, res, i)\n",
    "        w = get_beamforming(h)\n",
    "        SINR = sinr(h, w, j, i, σ)\n",
    "        for SINRi in SINR:\n",
    "            C[k] += np.log2(1+SINRi.mean())\n",
    "    C = np.sort(C)# / num_ue\n",
    "    average_C = np.mean(C)\n",
    "    std_C = np.std(C)\n",
    "    cdf_C = norm.cdf(C, loc=average_C, scale=std_C)\n",
    "    \n",
    "    label = ('{} users'.format(num_ue))\n",
    "    ax.plot(C, cdf_C, label=label)\n",
    "    print('Average Channel Capacity for {} users: {} bits/Hz'.format(num_ue, average_C))\n",
    "ax.set_ylabel(\"CDF\")\n",
    "ax.set_xlabel(\"Channel Capacity [bits/Hz]\")\n",
    "plt.legend()"
   ]
  },
  {
   "cell_type": "code",
   "execution_count": 10,
   "metadata": {
    "scrolled": false
   },
   "outputs": [
    {
     "name": "stdout",
     "output_type": "stream",
     "text": [
      "SINR: [[0.53878442 1.30153095 0.62102836]\n",
      " [0.62546247 0.72921625 1.00310427]\n",
      " [0.68964899 1.04231687 0.69224802]\n",
      " [0.7052931  0.70038512 0.51387591]]\n",
      "SINRmean: 0.820447907679085\n"
     ]
    }
   ],
   "source": [
    "n_ue = 4\n",
    "p = np.ones(n_ue)\n",
    "p = p * inv_db(P_t)\n",
    "UE = usuário(n_ue, 200, 100)\n",
    "SINR = compute_sinr(N, UE, BS, p, n_stream)\n",
    "print('SINR: {}'.format(SINR))\n",
    "SINR_mean = SINR[0].mean()\n",
    "print('SINRmean: {}'.format(SINR_mean))"
   ]
  },
  {
   "cell_type": "code",
   "execution_count": null,
   "metadata": {},
   "outputs": [],
   "source": []
  }
 ],
 "metadata": {
  "kernelspec": {
   "display_name": "Python 3",
   "language": "python",
   "name": "python3"
  },
  "language_info": {
   "codemirror_mode": {
    "name": "ipython",
    "version": 3
   },
   "file_extension": ".py",
   "mimetype": "text/x-python",
   "name": "python",
   "nbconvert_exporter": "python",
   "pygments_lexer": "ipython3",
   "version": "3.7.6"
  }
 },
 "nbformat": 4,
 "nbformat_minor": 4
}
