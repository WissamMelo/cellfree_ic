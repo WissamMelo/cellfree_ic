{
 "cells": [
  {
   "cell_type": "markdown",
   "metadata": {},
   "source": [
    "### Written by  [Gabriel Borges Pinheiro](github.com/gabrielbopi) & Wissam Melo"
   ]
  },
  {
   "cell_type": "code",
   "execution_count": 2,
   "metadata": {},
   "outputs": [],
   "source": [
    "import numpy as np\n",
    "from scipy.stats import norm\n",
    "import matplotlib.pyplot as plt\n",
    "%matplotlib inline\n",
    "\n",
    "# This import registers the 3D projection, but is otherwise unused.\n",
    "from mpl_toolkits.mplot3d import Axes3D  # noqa: F401 unused import"
   ]
  },
  {
   "cell_type": "markdown",
   "metadata": {},
   "source": [
    "#### Creating the test environment"
   ]
  },
  {
   "cell_type": "code",
   "execution_count": 3,
   "metadata": {},
   "outputs": [],
   "source": [
    "def bases(D, x, y, alt=15):\n",
    "    num_x = int(x/D)\n",
    "    num_y = int(y/D)\n",
    "    total = num_x*num_y\n",
    "    n = np.array([])\n",
    "    for i in range(num_y):\n",
    "        for j in range(num_x):\n",
    "            n = np.append(n, np.array([(j*D)+(D/2),(i*D)+(D/2),alt])) \n",
    "        \n",
    "    return total, n.reshape(total,3)\n",
    "\n",
    "def usuário(n, x, y):\n",
    "    UE = np.array([])\n",
    "    for i in range(n):\n",
    "        UE = np.append(UE,np.array([x*np.random.random(),y*np.random.random(),1.5]))\n",
    "    return UE.reshape(n,3)"
   ]
  },
  {
   "cell_type": "code",
   "execution_count": 4,
   "metadata": {},
   "outputs": [],
   "source": [
    "def BSs_per_UE(BS, UE, total):\n",
    "    endereços = []\n",
    "\n",
    "    for n in range(num_ue):\n",
    "        BS_UE = np.array([])\n",
    "        conectadas = 0\n",
    "        for i in range(total):\n",
    "            dist = np.linalg.norm(BS[i]-UE[n])\n",
    "            if dist <= 50:\n",
    "                conectadas += 1\n",
    "                BS_UE = np.append(BS_UE, BS[i])\n",
    "        BS_UE = np.append(BS_UE, 0)\n",
    "        endereços = np.append(endereços,BS_UE)\n",
    "  \n",
    "    # using list comprehension + zip() + slicing + enumerate() \n",
    "    # Split list into lists by particular value \n",
    "    size = len(endereços) \n",
    "    idx_list = [idx + 1 for idx, val in enumerate(endereços) if val == 0] \n",
    "    res = [endereços[i: j] for i, j in zip([0] + idx_list, idx_list + ([size] if idx_list[-1] != size else []))]\n",
    "    \n",
    "    for i in range(len(res)):\n",
    "        indices = np.where(res[i]==0)\n",
    "        res[i] = np.delete(res[i], indices)\n",
    "        res[i] = res[i].reshape(int((res[i].shape[0])/3),3)\n",
    "    res = np.array(res)\n",
    "    return res"
   ]
  },
  {
   "cell_type": "code",
   "execution_count": 5,
   "metadata": {},
   "outputs": [],
   "source": [
    "def UEs_per_BS(BS, UE, total):\n",
    "    positions = []\n",
    "\n",
    "    for n in range(total):\n",
    "        BS_UE = np.array([])\n",
    "        conectados = 0\n",
    "        for i in range(len(UE)):\n",
    "            dist = np.linalg.norm(BS[n]-UE[i])\n",
    "            if dist <= 50:\n",
    "                conectados += 1\n",
    "                BS_UE = np.append(BS_UE, UE[i])\n",
    "        BS_UE = np.append(BS_UE, 0)\n",
    "        positions = np.append(positions,BS_UE)\n",
    "    \n",
    "    # using list comprehension + zip() + slicing + enumerate() \n",
    "    # Split list into lists by particular value \n",
    "    size = len(positions) \n",
    "    idx_list = [idx + 1 for idx, val in enumerate(positions) if val == 0]\n",
    "    antenna = [positions[i: j] for i, j in zip([0] + idx_list, idx_list + ([size] if idx_list[-1] != size else []))] \n",
    "\n",
    "    for i in range(len(antenna)):\n",
    "        indices = np.where(antenna[i]==0)\n",
    "        antenna[i] = np.delete(antenna[i], indices)\n",
    "        antenna[i] = antenna[i].reshape(int((antenna[i].shape[0])/3),3)\n",
    "    return antenna"
   ]
  },
  {
   "cell_type": "markdown",
   "metadata": {},
   "source": [
    "##### Generating BSs and UEs"
   ]
  },
  {
   "cell_type": "code",
   "execution_count": 6,
   "metadata": {},
   "outputs": [],
   "source": [
    "#Espaçamento entre cada BS\n",
    "gap_bs = 50 #m\n",
    "#Number of users\n",
    "num_ue = 1\n",
    "\n",
    "total,BS = bases(gap_bs, 200, 100)\n",
    "UE = usuário(num_ue, 200, 100)\n",
    "UEs_antenna = UEs_per_BS(BS, UE, total)\n",
    "BSUE = BSs_per_UE(BS, UE, total)"
   ]
  },
  {
   "cell_type": "code",
   "execution_count": 7,
   "metadata": {},
   "outputs": [
    {
     "data": {
      "text/plain": [
       "array([[ 25.,  25.,  15.],\n",
       "       [ 75.,  25.,  15.],\n",
       "       [125.,  25.,  15.],\n",
       "       [175.,  25.,  15.],\n",
       "       [ 25.,  75.,  15.],\n",
       "       [ 75.,  75.,  15.],\n",
       "       [125.,  75.,  15.],\n",
       "       [175.,  75.,  15.]])"
      ]
     },
     "execution_count": 7,
     "metadata": {},
     "output_type": "execute_result"
    }
   ],
   "source": [
    "BS"
   ]
  },
  {
   "cell_type": "code",
   "execution_count": 8,
   "metadata": {},
   "outputs": [
    {
     "data": {
      "text/plain": [
       "array([[86.53865072, 98.68901145,  1.5       ]])"
      ]
     },
     "execution_count": 8,
     "metadata": {},
     "output_type": "execute_result"
    }
   ],
   "source": [
    "UE"
   ]
  },
  {
   "cell_type": "code",
   "execution_count": 9,
   "metadata": {},
   "outputs": [
    {
     "data": {
      "text/plain": [
       "[array([], shape=(0, 3), dtype=float64),\n",
       " array([], shape=(0, 3), dtype=float64),\n",
       " array([], shape=(0, 3), dtype=float64),\n",
       " array([], shape=(0, 3), dtype=float64),\n",
       " array([], shape=(0, 3), dtype=float64),\n",
       " array([[86.53865072, 98.68901145,  1.5       ]]),\n",
       " array([[86.53865072, 98.68901145,  1.5       ]]),\n",
       " array([], shape=(0, 3), dtype=float64)]"
      ]
     },
     "execution_count": 9,
     "metadata": {},
     "output_type": "execute_result"
    }
   ],
   "source": [
    "UEs_antenna"
   ]
  },
  {
   "cell_type": "code",
   "execution_count": 10,
   "metadata": {},
   "outputs": [
    {
     "data": {
      "text/plain": [
       "0"
      ]
     },
     "execution_count": 10,
     "metadata": {},
     "output_type": "execute_result"
    }
   ],
   "source": [
    "UEs_antenna[2].shape[0]"
   ]
  },
  {
   "cell_type": "code",
   "execution_count": 11,
   "metadata": {},
   "outputs": [
    {
     "data": {
      "text/plain": [
       "array([[[ 75.,  75.,  15.],\n",
       "        [125.,  75.,  15.]]])"
      ]
     },
     "execution_count": 11,
     "metadata": {},
     "output_type": "execute_result"
    }
   ],
   "source": [
    "BSUE"
   ]
  },
  {
   "cell_type": "markdown",
   "metadata": {},
   "source": [
    "#### Calculating the parameters"
   ]
  },
  {
   "cell_type": "code",
   "execution_count": 12,
   "metadata": {},
   "outputs": [],
   "source": [
    "def db(X):\n",
    "    return 10 * np.log10(np.abs(X))\n",
    "def inv_db(X):\n",
    "    return 10**(X/10)\n",
    "def dbm(X):\n",
    "    return 10 * np.log10(np.abs(X)/(1e-3))\n",
    "def inv_dbm(X):\n",
    "    return (1e-3) * 10**(X/10)"
   ]
  },
  {
   "cell_type": "code",
   "execution_count": 13,
   "metadata": {},
   "outputs": [],
   "source": [
    "def β_channel(D):\n",
    "    \"\"\"\n",
    "    Returns the \n",
    "    \"\"\"\n",
    "    #Carrier frequency (LTE band 7)\n",
    "    f = 2.6e9\n",
    "    #Wavelength\n",
    "    λ = 3e8/f\n",
    "    R = D\n",
    "    #Linear pathloss\n",
    "    L_lin =  (λ/(4*np.pi*R))**2\n",
    "    β = L_lin\n",
    "    return β\n",
    "\n",
    "def rand_channel(D, N):\n",
    "    \"\"\"\n",
    "    Returns the channel\n",
    "    \"\"\"\n",
    "    β = β_channel(D)\n",
    "    ampl = np.sqrt(β)/2\n",
    "    h = (np.random.randn(N) + 1j*np.random.randn(N)) * ampl\n",
    "    return h\n",
    "\n",
    "def channel_user2(num_ue,numBS,nAntennas,UEpos,BSpos,UEs_antenna):\n",
    "    \"\"\"\n",
    "    Retorna uma matriz 3D, onde h[UE][BS]{stream}\n",
    "    \"\"\"\n",
    "    H = np.zeros((num_ue,numBS,nAntennas),dtype=complex)\n",
    "\n",
    "    for ii in range(numBS):\n",
    "        for jj in range(UEs_antenna[ii].shape[0]):\n",
    "            user = np.argmin(np.sum(np.abs(UEs_antenna[ii][jj] - UEpos),axis=1))\n",
    "            R = np.linalg.norm(BSpos[ii] - UEs_antenna[ii][jj]) \n",
    "            H[int(user)][ii] = rand_channel(R, nAntennas)\n",
    "\n",
    "    return H\n",
    "\n",
    "def powerUE(num_ue, total, UEpos,UEs_antenna, P_dBm):\n",
    "    p = np.zeros(num_ue)\n",
    "    for i in range(total):\n",
    "        UE_BS = UEs_antenna[i].shape[0]\n",
    "        for j in range(UEs_antenna[i].shape[0]):\n",
    "            user = np.argmin(np.sum(np.abs(UEs_antenna[i][j] - UEpos),axis=1))\n",
    "            p[int(user)] =  p[int(user)] + (inv_dbm(P_dBm)/int(UE_BS))\n",
    "    return dbm(p)\n",
    "\n",
    "def get_beamforming(h, num_ue, total, P_dBm):\n",
    "    p = inv_dbm(P_dBm)\n",
    "    v = np.zeros((num_ue,total*N), dtype = 'complex_')\n",
    "    for i in range(num_ue):\n",
    "        v[i] = np.sqrt(p[i])*(np.conjugate(h[i])/np.linalg.norm(h[i]))\n",
    "        \n",
    "    return v"
   ]
  },
  {
   "cell_type": "code",
   "execution_count": 14,
   "metadata": {},
   "outputs": [
    {
     "data": {
      "text/plain": [
       "array([43.01029996])"
      ]
     },
     "execution_count": 14,
     "metadata": {},
     "output_type": "execute_result"
    }
   ],
   "source": [
    "P_dBm = 40\n",
    "P_dBm = powerUE(num_ue, total, UE,UEs_antenna, P_dBm)\n",
    "P_dBm"
   ]
  },
  {
   "cell_type": "code",
   "execution_count": 15,
   "metadata": {},
   "outputs": [],
   "source": [
    "#Numero de antenas no arranjo\n",
    "N = 5\n",
    "\n",
    "#h = channel_user(N, UE, total, BSUE)\n",
    "H = channel_user2(num_ue,total,N,UE,BS,UEs_antenna)"
   ]
  },
  {
   "cell_type": "code",
   "execution_count": 16,
   "metadata": {
    "scrolled": false
   },
   "outputs": [
    {
     "data": {
      "text/plain": [
       "array([[[ 0.00000000e+00+0.00000000e+00j,\n",
       "          0.00000000e+00+0.00000000e+00j,\n",
       "          0.00000000e+00+0.00000000e+00j,\n",
       "          0.00000000e+00+0.00000000e+00j,\n",
       "          0.00000000e+00+0.00000000e+00j],\n",
       "        [ 0.00000000e+00+0.00000000e+00j,\n",
       "          0.00000000e+00+0.00000000e+00j,\n",
       "          0.00000000e+00+0.00000000e+00j,\n",
       "          0.00000000e+00+0.00000000e+00j,\n",
       "          0.00000000e+00+0.00000000e+00j],\n",
       "        [ 0.00000000e+00+0.00000000e+00j,\n",
       "          0.00000000e+00+0.00000000e+00j,\n",
       "          0.00000000e+00+0.00000000e+00j,\n",
       "          0.00000000e+00+0.00000000e+00j,\n",
       "          0.00000000e+00+0.00000000e+00j],\n",
       "        [ 0.00000000e+00+0.00000000e+00j,\n",
       "          0.00000000e+00+0.00000000e+00j,\n",
       "          0.00000000e+00+0.00000000e+00j,\n",
       "          0.00000000e+00+0.00000000e+00j,\n",
       "          0.00000000e+00+0.00000000e+00j],\n",
       "        [ 0.00000000e+00+0.00000000e+00j,\n",
       "          0.00000000e+00+0.00000000e+00j,\n",
       "          0.00000000e+00+0.00000000e+00j,\n",
       "          0.00000000e+00+0.00000000e+00j,\n",
       "          0.00000000e+00+0.00000000e+00j],\n",
       "        [-1.73938272e-04-5.37168415e-05j,\n",
       "         -8.16698383e-05+1.72885649e-04j,\n",
       "          2.71049713e-04+1.04517828e-04j,\n",
       "          1.70723586e-04+1.64577578e-04j,\n",
       "         -1.14870557e-04+1.23894741e-04j],\n",
       "        [ 1.03369996e-04-5.04249980e-05j,\n",
       "         -1.23141008e-04-1.35064474e-05j,\n",
       "          2.42217857e-05+1.59382977e-04j,\n",
       "         -1.66782063e-04-5.22109195e-05j,\n",
       "          3.31053841e-05+1.12580239e-04j],\n",
       "        [ 0.00000000e+00+0.00000000e+00j,\n",
       "          0.00000000e+00+0.00000000e+00j,\n",
       "          0.00000000e+00+0.00000000e+00j,\n",
       "          0.00000000e+00+0.00000000e+00j,\n",
       "          0.00000000e+00+0.00000000e+00j]]])"
      ]
     },
     "execution_count": 16,
     "metadata": {},
     "output_type": "execute_result"
    }
   ],
   "source": [
    "H"
   ]
  },
  {
   "cell_type": "code",
   "execution_count": 17,
   "metadata": {},
   "outputs": [
    {
     "data": {
      "text/plain": [
       "2"
      ]
     },
     "execution_count": 17,
     "metadata": {},
     "output_type": "execute_result"
    }
   ],
   "source": [
    "BSUE[0].shape[0]"
   ]
  },
  {
   "cell_type": "code",
   "execution_count": 18,
   "metadata": {},
   "outputs": [],
   "source": [
    "def vectorize(H, num_ue, total, N):\n",
    "    h = np.zeros((num_ue, N*total), dtype ='complex_')\n",
    "    for i in range(num_ue):\n",
    "        h[i] = H[i].reshape(N*total)\n",
    "    return h\n",
    "\n",
    "H = vectorize(H, 1, total, N)"
   ]
  },
  {
   "cell_type": "code",
   "execution_count": 19,
   "metadata": {
    "scrolled": false
   },
   "outputs": [
    {
     "data": {
      "text/plain": [
       "array([[ 0.00000000e+00+0.00000000e+00j,  0.00000000e+00+0.00000000e+00j,\n",
       "         0.00000000e+00+0.00000000e+00j,  0.00000000e+00+0.00000000e+00j,\n",
       "         0.00000000e+00+0.00000000e+00j,  0.00000000e+00+0.00000000e+00j,\n",
       "         0.00000000e+00+0.00000000e+00j,  0.00000000e+00+0.00000000e+00j,\n",
       "         0.00000000e+00+0.00000000e+00j,  0.00000000e+00+0.00000000e+00j,\n",
       "         0.00000000e+00+0.00000000e+00j,  0.00000000e+00+0.00000000e+00j,\n",
       "         0.00000000e+00+0.00000000e+00j,  0.00000000e+00+0.00000000e+00j,\n",
       "         0.00000000e+00+0.00000000e+00j,  0.00000000e+00+0.00000000e+00j,\n",
       "         0.00000000e+00+0.00000000e+00j,  0.00000000e+00+0.00000000e+00j,\n",
       "         0.00000000e+00+0.00000000e+00j,  0.00000000e+00+0.00000000e+00j,\n",
       "         0.00000000e+00+0.00000000e+00j,  0.00000000e+00+0.00000000e+00j,\n",
       "         0.00000000e+00+0.00000000e+00j,  0.00000000e+00+0.00000000e+00j,\n",
       "         0.00000000e+00+0.00000000e+00j, -1.73938272e-04-5.37168415e-05j,\n",
       "        -8.16698383e-05+1.72885649e-04j,  2.71049713e-04+1.04517828e-04j,\n",
       "         1.70723586e-04+1.64577578e-04j, -1.14870557e-04+1.23894741e-04j,\n",
       "         1.03369996e-04-5.04249980e-05j, -1.23141008e-04-1.35064474e-05j,\n",
       "         2.42217857e-05+1.59382977e-04j, -1.66782063e-04-5.22109195e-05j,\n",
       "         3.31053841e-05+1.12580239e-04j,  0.00000000e+00+0.00000000e+00j,\n",
       "         0.00000000e+00+0.00000000e+00j,  0.00000000e+00+0.00000000e+00j,\n",
       "         0.00000000e+00+0.00000000e+00j,  0.00000000e+00+0.00000000e+00j]])"
      ]
     },
     "execution_count": 19,
     "metadata": {},
     "output_type": "execute_result"
    }
   ],
   "source": [
    "H"
   ]
  },
  {
   "cell_type": "code",
   "execution_count": 20,
   "metadata": {},
   "outputs": [],
   "source": [
    "v = get_beamforming(H, num_ue, total, P_dBm)"
   ]
  },
  {
   "cell_type": "code",
   "execution_count": 21,
   "metadata": {},
   "outputs": [
    {
     "data": {
      "text/plain": [
       "array([[ 0.        +0.j        ,  0.        +0.j        ,\n",
       "         0.        +0.j        ,  0.        +0.j        ,\n",
       "         0.        +0.j        ,  0.        +0.j        ,\n",
       "         0.        +0.j        ,  0.        +0.j        ,\n",
       "         0.        +0.j        ,  0.        +0.j        ,\n",
       "         0.        +0.j        ,  0.        +0.j        ,\n",
       "         0.        +0.j        ,  0.        +0.j        ,\n",
       "         0.        +0.j        ,  0.        +0.j        ,\n",
       "         0.        +0.j        ,  0.        +0.j        ,\n",
       "         0.        +0.j        ,  0.        +0.j        ,\n",
       "         0.        +0.j        ,  0.        +0.j        ,\n",
       "         0.        +0.j        ,  0.        +0.j        ,\n",
       "         0.        +0.j        , -1.33849143+0.41336235j,\n",
       "        -0.62846651-1.33039128j,  2.08578431-0.80428658j,\n",
       "         1.31375375-1.26645893j, -0.883953  -0.95339598j,\n",
       "         0.79545377+0.38803092j, -0.94759585+0.10393494j,\n",
       "         0.18639171-1.22648539j, -1.28342291+0.40177396j,\n",
       "         0.25475286-0.86632852j,  0.        +0.j        ,\n",
       "         0.        +0.j        ,  0.        +0.j        ,\n",
       "         0.        +0.j        ,  0.        +0.j        ]])"
      ]
     },
     "execution_count": 21,
     "metadata": {},
     "output_type": "execute_result"
    }
   ],
   "source": [
    "v"
   ]
  },
  {
   "cell_type": "code",
   "execution_count": 22,
   "metadata": {},
   "outputs": [],
   "source": [
    "#Band of signal\n",
    "B = 1e6 #Hz\n",
    "#Power of noise (-127dBm is average)\n",
    "N0 = inv_dbm(-127)\n",
    "σ = B*N0"
   ]
  },
  {
   "cell_type": "code",
   "execution_count": 23,
   "metadata": {},
   "outputs": [
    {
     "data": {
      "text/plain": [
       "1.9952623149688826e-10"
      ]
     },
     "execution_count": 23,
     "metadata": {},
     "output_type": "execute_result"
    }
   ],
   "source": [
    "σ"
   ]
  },
  {
   "cell_type": "code",
   "execution_count": 24,
   "metadata": {},
   "outputs": [],
   "source": [
    "def sinr(h, V, j, σ):\n",
    "    \n",
    "    num = np.abs(V[j].transpose()@h)**2\n",
    "    den = np.zeros(num.shape)\n",
    "    for x in range(V.shape[0]):\n",
    "        #if V[x]:\n",
    "        if x!=j:\n",
    "            #den = np.add(den, np.abs(V[x].transpose()@h)**2)\n",
    "            den += np.abs(V[x].transpose()@h)**2\n",
    "    return (num/(den+σ))"
   ]
  },
  {
   "cell_type": "code",
   "execution_count": 25,
   "metadata": {
    "scrolled": true
   },
   "outputs": [],
   "source": [
    "j = 0\n",
    "s_inr = sinr(H[j], v, j, σ)"
   ]
  },
  {
   "cell_type": "code",
   "execution_count": 26,
   "metadata": {},
   "outputs": [
    {
     "data": {
      "text/plain": [
       "33854.71031080526"
      ]
     },
     "execution_count": 26,
     "metadata": {},
     "output_type": "execute_result"
    }
   ],
   "source": [
    "s_inr"
   ]
  },
  {
   "cell_type": "code",
   "execution_count": 27,
   "metadata": {},
   "outputs": [
    {
     "name": "stdout",
     "output_type": "stream",
     "text": [
      "45.29619101962804\n"
     ]
    }
   ],
   "source": [
    "print(db(s_inr))"
   ]
  },
  {
   "cell_type": "code",
   "execution_count": 28,
   "metadata": {},
   "outputs": [],
   "source": [
    "S = np.zeros(len(UE))\n",
    "for i in range(len(UE)):\n",
    "    S[i] = sinr(H[i], v, i, σ)\n"
   ]
  },
  {
   "cell_type": "code",
   "execution_count": 29,
   "metadata": {},
   "outputs": [
    {
     "name": "stdout",
     "output_type": "stream",
     "text": [
      "15.047111567627002\n"
     ]
    }
   ],
   "source": [
    "print(np.sum(np.log2(S+1)))\n",
    "#C"
   ]
  },
  {
   "cell_type": "code",
   "execution_count": 30,
   "metadata": {},
   "outputs": [
    {
     "data": {
      "text/plain": [
       "8"
      ]
     },
     "execution_count": 30,
     "metadata": {},
     "output_type": "execute_result"
    }
   ],
   "source": [
    "BS.shape[0]"
   ]
  },
  {
   "cell_type": "code",
   "execution_count": 41,
   "metadata": {},
   "outputs": [],
   "source": [
    "def sinr_mc(num_ue, N, BS, P_dBm):\n",
    "    \"\"\"\n",
    "    Gerar os canais, Com mesma BS e gerando diferentes UE calculando H,V,sinr e C()\n",
    "    \"\"\"\n",
    "    total = BS.shape[0]\n",
    "    UE = usuário(num_ue, 200, 100)\n",
    "    UEs_antenna = UEs_per_BS(BS, UE, total)\n",
    "    P_dBm = powerUE(num_ue, total, UE,UEs_antenna, P_dBm)\n",
    "    H = channel_user2(num_ue,total,N,UE,BS,UEs_antenna)\n",
    "    H = vectorize(H, num_ue, total, N)\n",
    "    V = get_beamforming(H, num_ue, total, P_dBm)\n",
    "    S = np.zeros(len(UE))\n",
    "    for i in range(len(UE)):\n",
    "        S[i] = sinr(H[i], V, i, σ)\n",
    "    C = np.sum(np.log2(S+1))\n",
    "    \n",
    "    return C"
   ]
  },
  {
   "cell_type": "code",
   "execution_count": 143,
   "metadata": {
    "scrolled": false
   },
   "outputs": [
    {
     "name": "stdout",
     "output_type": "stream",
     "text": [
      "[0.03148992 0.03175131 0.0324143  0.0362085  0.0366661  0.03858013\n",
      " 0.03863746 0.04034013 0.04049054 0.04125169 0.04147251 0.04197214\n",
      " 0.04225373 0.04278549 0.04293012 0.04360541 0.04374903 0.04383175\n",
      " 0.04442644 0.04457781 0.04570599 0.04573388 0.04596081 0.04625121\n",
      " 0.0474286  0.04779587 0.0479401  0.04885673 0.04890692 0.04979932\n",
      " 0.04988315 0.04989944 0.05046109 0.05051721 0.05213282 0.05214298\n",
      " 0.05222505 0.05246538 0.05314081 0.05364516 0.05391067 0.05414499\n",
      " 0.05444996 0.05451109 0.05466054 0.05493009 0.05521931 0.055548\n",
      " 0.05561645 0.05621139 0.056327   0.05638932 0.05726498 0.05756165\n",
      " 0.05762821 0.05763473 0.05777107 0.05793549 0.05809056 0.05815559\n",
      " 0.05821816 0.05853278 0.05862399 0.05886577 0.05905321 0.0591458\n",
      " 0.05930098 0.06001029 0.06077241 0.06140663 0.06158295 0.06168785\n",
      " 0.0620092  0.06207208 0.06278113 0.06329597 0.0633584  0.06355697\n",
      " 0.06358226 0.06441926 0.06479837 0.064942   0.06502679 0.06535014\n",
      " 0.06593954 0.0660143  0.06610151 0.06614505 0.0666563  0.06669514\n",
      " 0.06687624 0.06694918 0.06727935 0.06732158 0.06788453 0.0681515\n",
      " 0.06855021 0.06859286 0.06877056 0.07022826 0.07053182 0.07120393\n",
      " 0.07156854 0.07188894 0.07202393 0.07233054 0.07248702 0.07264688\n",
      " 0.07306114 0.07333945 0.07389721 0.07412215 0.07511463 0.07530036\n",
      " 0.07547802 0.07596038 0.07636656 0.07650521 0.07780981 0.07891114\n",
      " 0.07926875 0.0794105  0.08072034 0.08113808 0.08172968 0.08195427\n",
      " 0.08216218 0.0823338  0.08253877 0.08256122 0.0826412  0.08291992\n",
      " 0.08318103 0.08338797 0.08345051 0.083842   0.08403499 0.08446645\n",
      " 0.08584624 0.08590993 0.08601211 0.08624155 0.08653879 0.0869836\n",
      " 0.08709509 0.0872066  0.0876377  0.08769171 0.087865   0.08812957\n",
      " 0.08858457 0.08877017 0.08882796 0.0893654  0.08960976 0.08961915\n",
      " 0.09030821 0.09051257 0.09093005 0.09165493 0.09186703 0.09208643\n",
      " 0.09257916 0.0928457  0.09296731 0.09313987 0.09320298 0.09325583\n",
      " 0.09418815 0.0951027  0.09523524 0.09573919 0.09598371 0.09642571\n",
      " 0.09647432 0.09703999 0.09785668 0.09827914 0.09883317 0.09890279\n",
      " 0.09890744 0.09921031 0.09923177 0.09934468 0.09991971 0.10092674\n",
      " 0.10119918 0.10172449 0.10236419 0.1026515  0.10354269 0.10379966\n",
      " 0.10391183 0.1048912  0.10695171 0.10732696 0.10833567 0.10849771\n",
      " 0.10880371 0.10890708 0.10891254 0.10995399 0.1115355  0.11207673\n",
      " 0.11207704 0.11312251 0.11412196 0.11483513 0.11548789 0.11562428\n",
      " 0.11595554 0.11670366 0.11717704 0.11740234 0.11759988 0.11791789\n",
      " 0.11807    0.1186693  0.11907422 0.11912468 0.11960187 0.11978511\n",
      " 0.12068879 0.12071948 0.12116661 0.1221912  0.12272134 0.12313773\n",
      " 0.12383079 0.12394641 0.12422488 0.12437157 0.12529619 0.12567093\n",
      " 0.12579975 0.1258286  0.1267536  0.12702851 0.12744667 0.12771962\n",
      " 0.1284349  0.12878739 0.12920975 0.13043419 0.13135753 0.13193631\n",
      " 0.13306383 0.1332445  0.13373593 0.13427001 0.13434446 0.13442412\n",
      " 0.13466529 0.13491478 0.13559275 0.13594904 0.13686569 0.14214438\n",
      " 0.1423011  0.14326492 0.14381987 0.14393252 0.14432793 0.14451749\n",
      " 0.14486244 0.14556027 0.14601437 0.14700896 0.14704427 0.14795247\n",
      " 0.14836364 0.14887259 0.14944929 0.14950488 0.14976044 0.14993124\n",
      " 0.15113663 0.15189681 0.15221732 0.15312754 0.1532789  0.15352677\n",
      " 0.15420351 0.15430903 0.15500675 0.156824   0.15704484 0.15736095\n",
      " 0.15865277 0.15910843 0.16084186 0.1612613  0.16145992 0.16412718\n",
      " 0.16734216 0.16757639 0.16844938 0.16879399 0.16899425 0.17138038\n",
      " 0.17158125 0.17176215 0.17246184 0.17347628 0.17469866 0.17577604\n",
      " 0.17830384 0.17846783 0.17983565 0.18024093 0.18039968 0.18150002\n",
      " 0.1820795  0.18407562 0.18563448 0.18774757 0.19072866 0.19121843\n",
      " 0.19122548 0.19192564 0.19253644 0.1931713  0.19720302 0.20021898\n",
      " 0.20164442 0.20176629 0.2037795  0.20475619 0.20515583 0.20528363\n",
      " 0.20532257 0.20550998 0.2062159  0.2068711  0.21015833 0.21064822\n",
      " 0.21081473 0.2122102  0.21247902 0.2159943  0.21999218 0.22293369\n",
      " 0.22515453 0.22763317 0.22811803 0.22915398 0.23074408 0.23268954\n",
      " 0.23303414 0.23515436 0.23668451 0.23699811 0.24235218 0.24420275\n",
      " 0.24512943 0.24549813 0.24660957 0.25019646 0.25021447 0.25387256\n",
      " 0.25413889 0.25478926 0.25709742 0.26121305 0.26178188 0.26253661\n",
      " 0.2659615  0.268405   0.27425794 0.27547382 0.27588919 0.27771255\n",
      " 0.2802794  0.28347958 0.28752499 0.29116053 0.29539323 0.30409952\n",
      " 0.30992903 0.31552348 0.31789112 0.32291739 0.32632466 0.32642321\n",
      " 0.33222037 0.33488557 0.33517189 0.34069484 0.35050274 0.35485323\n",
      " 0.36486137 0.38713892 0.38886239 0.39629652 0.40635456 0.42037773\n",
      " 0.42308492 0.42665057 0.43200622 0.46294175 0.49225787 0.53171589\n",
      " 0.61417807 0.61827478 0.62504079 0.64069771 0.64771222 0.65910511\n",
      " 0.66346032 0.66590963 0.66771173 0.67234449 0.67308769 0.67749932\n",
      " 0.67958395 0.68206991 0.6822308  0.68429636 0.68982226 0.69046848\n",
      " 0.69056045 0.69072962 0.69103616 0.69367329 0.69478233 0.69559017\n",
      " 0.69569523 0.69590602 0.69762442 0.69794058 0.69805985 0.69840579\n",
      " 0.69916648 0.700469   0.70057225 0.70137571 0.70236964 0.70420621\n",
      " 0.70599074 0.70998601 0.71111051 0.71208032 0.71360075 0.71360487\n",
      " 0.71366014 0.71380431 0.71388003 0.71436047 0.71449404 0.71639157\n",
      " 0.71734182 0.71749816 0.71784046 0.71918204 0.71985216 0.72064679\n",
      " 0.72123211 0.72355633 0.72416813 0.72487049 0.72490086 0.72680906\n",
      " 0.72735253 0.72863991 0.72893705 0.72957044 0.72965399 0.73033813\n",
      " 0.73038193 0.73082004 0.73191263 0.73198449 0.73211556 0.73341043\n",
      " 0.73476672 0.7362324  0.73734449 0.73822582 0.73881648 0.73924885\n",
      " 0.74016546 0.74031076 0.74090587 0.74132623 0.7414786  0.74181617\n",
      " 0.74204419 0.74254047 0.74276097 0.74306672 0.74318718 0.74337474\n",
      " 0.74369421 0.74411043 0.74417819 0.74475738 0.74490749 0.74497359\n",
      " 0.74504328 0.74518686 0.74524007 0.74548393 0.74587992 0.74609698\n",
      " 0.74610997 0.74625416 0.74632263 0.74648212 0.74652886 0.74662743\n",
      " 0.74740362 0.74743159 0.74758477 0.74789089 0.74822207 0.74859292\n",
      " 0.74875327 0.74975275 0.74998389 0.75024704 0.75055281 0.75134094\n",
      " 0.75138096 0.75183935 0.75209754 0.75253455 0.75260778 0.75262227\n",
      " 0.75275597 0.75302863 0.75315849 0.75435157 0.75435818 0.75476239\n",
      " 0.75500998 0.75521896 0.75656568 0.75658967 0.75689608 0.75693199\n",
      " 0.75731136 0.75738454 0.75776927 0.75778782 0.75779347 0.75791686\n",
      " 0.75796041 0.75906758 0.75948161 0.75974818 0.76047356 0.76053133\n",
      " 0.76099817 0.76159328 0.76166661 0.76170664 0.76221878 0.76242927\n",
      " 0.76276695 0.7630454  0.76328637 0.76335619 0.76386573 0.76447268\n",
      " 0.7645549  0.76465337 0.76502845 0.76512237 0.76524865 0.76537853\n",
      " 0.76549734 0.76602856 0.76624043 0.76625685 0.7665212  0.76656102\n",
      " 0.76665418 0.76674992 0.767024   0.76713927 0.76720375 0.7673809\n",
      " 0.76741513 0.76767837 0.76832885 0.76851901 0.76856829 0.76875065\n",
      " 0.76876085 0.76884514 0.76898666 0.76901766 0.76909645 0.7691629\n",
      " 0.76919925 0.76931878 0.76957862 0.76961528 0.76974326 0.76987953\n",
      " 0.77001924 0.77044506 0.77047525 0.77067929 0.7708653  0.77105723\n",
      " 0.7712156  0.77141713 0.7716099  0.7719266  0.77223269 0.77231274\n",
      " 0.77257009 0.7725895  0.77259928 0.77284725 0.77324414 0.77330927\n",
      " 0.77342087 0.77351229 0.77356679 0.77358909 0.77367872 0.77368121\n",
      " 0.77418432 0.77420605 0.77453039 0.77469693 0.77474824 0.77533284\n",
      " 0.77534015 0.77536307 0.77561212 0.77593716 0.77600503 0.77608613\n",
      " 0.77608775 0.77618819 0.77641813 0.77673062 0.77696701 0.77710279\n",
      " 0.77797131 0.77803228 0.77818992 0.77835634 0.77862273 0.77864986\n",
      " 0.77891321 0.77914428 0.77929153 0.77932095 0.77943233 0.77950317\n",
      " 0.77977434 0.77978141 0.77981343 0.77997825 0.78023914 0.78039668\n",
      " 0.78077076 0.78081729 0.78116613 0.78123941 0.7817764  0.78177994\n",
      " 0.78189193 0.7819564  0.78202257 0.78212633 0.78217187 0.78242271\n",
      " 0.78266616 0.78283637 0.78284629 0.78294884 0.78311255 0.78328256\n",
      " 0.78354334 0.78388799 0.78395223 0.78405367 0.78408994 0.78416212\n",
      " 0.78427691 0.78457396 0.78486419 0.78498675 0.7851306  0.78520924\n",
      " 0.78553497 0.78581315 0.78610429 0.78628054 0.78703344 0.78768281\n",
      " 0.78772654 0.78792696 0.7880611  0.7881668  0.78842896 0.78843456\n",
      " 0.78847267 0.7885314  0.78859193 0.78864802 0.78883032 0.78899712\n",
      " 0.7890372  0.78924356 0.78964049 0.7896727  0.78986513 0.78989206\n",
      " 0.79041157 0.79048501 0.79065755 0.79067942 0.79071187 0.7908917\n",
      " 0.79093748 0.79151723 0.79155435 0.79185725 0.7921819  0.79231711\n",
      " 0.79250397 0.79254808 0.79268993 0.79294167 0.79305978 0.79311741\n",
      " 0.79327683 0.79333218 0.7935145  0.79380548 0.79398238 0.79412244\n",
      " 0.794243   0.7944259  0.79516235 0.79517234 0.79545139 0.79564268\n",
      " 0.79569383 0.79600206 0.79606262 0.7961023  0.79624366 0.79625206\n",
      " 0.79626416 0.79653963 0.7967512  0.79699576 0.79739594 0.79769102\n",
      " 0.79776395 0.79795793 0.79797943 0.79805657 0.79814824 0.79823003\n",
      " 0.79829621 0.79833226 0.79848004 0.79869119 0.79886917 0.79907793\n",
      " 0.7992352  0.79927874 0.79960664 0.79979457 0.79998143 0.80004547\n",
      " 0.80045799 0.8005546  0.80059134 0.80061158 0.8008791  0.80144831\n",
      " 0.80171898 0.80189101 0.80227799 0.80229109 0.80241996 0.80271675\n",
      " 0.80286398 0.8032641  0.80360103 0.80368703 0.80368862 0.80421333\n",
      " 0.80459021 0.80473374 0.80478176 0.80485215 0.80523917 0.80532131\n",
      " 0.80571504 0.80578611 0.80614783 0.8062354  0.8063268  0.80655359\n",
      " 0.80657682 0.80660309 0.8067532  0.80685111 0.80715249 0.80723129\n",
      " 0.80755314 0.80762583 0.80773104 0.80776614 0.80789737 0.80790687\n",
      " 0.80802124 0.80804613 0.80831761 0.80884737 0.80885054 0.8088575\n",
      " 0.80894681 0.80900094 0.80911852 0.80959646 0.80985709 0.81002603\n",
      " 0.81012114 0.8103476  0.81047847 0.8107128  0.81101439 0.81113719\n",
      " 0.81124853 0.81177107 0.81179255 0.81179682 0.81197819 0.81202783\n",
      " 0.81205871 0.81212812 0.81222735 0.81230138 0.81256447 0.81258147\n",
      " 0.81268146 0.812983   0.81310041 0.81340134 0.81403462 0.81434677\n",
      " 0.81450982 0.81464955 0.81465699 0.81482732 0.81490712 0.81517055\n",
      " 0.8153196  0.81537484 0.81541725 0.8159119  0.81596497 0.81598037\n",
      " 0.81602943 0.81607395 0.8161243  0.81620111 0.81635086 0.81646415\n",
      " 0.81657318 0.81667364 0.81668638 0.81676129 0.81706272 0.81713254\n",
      " 0.81729843 0.8174701  0.81846292 0.81868083 0.81868794 0.81891376\n",
      " 0.81895888 0.82012795 0.82030203 0.82049503 0.82076384 0.8207813\n",
      " 0.82098466 0.82154365 0.82181104 0.82223773 0.82236505 0.82262252\n",
      " 0.82263734 0.82276018 0.82298517 0.8232169  0.82334128 0.8235135\n",
      " 0.82365534 0.8237664  0.8243647  0.82440091 0.82463096 0.82467937\n",
      " 0.82468953 0.82504779 0.8262073  0.826364   0.82679916 0.8268499\n",
      " 0.82728186 0.82769769 0.82836278 0.82837842 0.82916684 0.82929887\n",
      " 0.82965614 0.8298135  0.82989922 0.83002885 0.83044808 0.83047015\n",
      " 0.83056287 0.83076177 0.83089958 0.83114288 0.83124227 0.83133765\n",
      " 0.83159411 0.83168301 0.83169596 0.83172256 0.83174253 0.83180877\n",
      " 0.83195285 0.83203704 0.83219363 0.83231182 0.83232204 0.83232785\n",
      " 0.83238214 0.83240505 0.83276593 0.83332561 0.83385471 0.83402224\n",
      " 0.834056   0.8349016  0.83523518 0.83532505 0.83533462 0.83542412\n",
      " 0.83589787 0.83614482 0.83622751 0.8370091  0.83737311 0.83749457\n",
      " 0.83815458 0.83825223 0.83826436 0.83844142 0.83880611 0.83902365\n",
      " 0.83917812 0.83937009 0.84041985 0.84114251 0.84129026 0.84188545\n",
      " 0.84291547 0.84319075 0.84373951 0.8454075  0.84593412 0.84896378\n",
      " 0.84909246 0.84941322 0.84980336 0.85126412 0.85130414 0.85171787\n",
      " 0.85213737 0.85248529 0.8534482  0.85373763 0.85412582 0.85565575\n",
      " 0.85662569 0.85766887 0.85786099 0.85813868 0.85965633 0.86135171\n",
      " 0.86206686 0.86245102 0.86642414 0.86824905]\n",
      "(1000,)\n",
      "11.302018839596348\n"
     ]
    },
    {
     "data": {
      "image/png": "[encoded data removed]",
      "text/plain": [
       "<Figure size 432x288 with 1 Axes>"
      ]
     },
     "metadata": {
      "needs_background": "light"
     },
     "output_type": "display_data"
    }
   ],
   "source": [
    "mc = 1000\n",
    "C = np.zeros(mc)\n",
    "for j in range(mc):\n",
    "    np.random.seed(j)\n",
    "    C[j] = sinr_mc(2, N, BS, P_dBm)\n",
    "CDF = norm.cdf(np.sort(C),loc=np.mean(C),scale=np.std(C))\n",
    "print(CDF)\n",
    "print(C.shape)\n",
    "print(np.std(C))\n",
    "label = ('{} users'.format(2))\n",
    "plt.plot(np.sort(C), CDF, label=label)\n",
    "plt.grid()"
   ]
  },
  {
   "cell_type": "code",
   "execution_count": 42,
   "metadata": {},
   "outputs": [
    {
     "name": "stdout",
     "output_type": "stream",
     "text": [
      "13.520479831720168\n"
     ]
    }
   ],
   "source": [
    "print(sinr_mc(1, N, BS, 40))"
   ]
  },
  {
   "cell_type": "code",
   "execution_count": 150,
   "metadata": {},
   "outputs": [],
   "source": [
    "n = [1,2,4,6,8,10,12,14,16,18,19,20,22,24,26,28,30,32,34,36,38,40]\n",
    "us = [1,2,8,16,24,32,40,45,50,55,60]"
   ]
  },
  {
   "cell_type": "code",
   "execution_count": 101,
   "metadata": {},
   "outputs": [
    {
     "data": {
      "text/plain": [
       "int"
      ]
     },
     "execution_count": 101,
     "metadata": {},
     "output_type": "execute_result"
    }
   ],
   "source": [
    "type(n[i])"
   ]
  },
  {
   "cell_type": "code",
   "execution_count": 125,
   "metadata": {},
   "outputs": [],
   "source": [
    "def cdf(C):\n",
    "    C = np.sort(C)\n",
    "    average_C = np.mean(C)\n",
    "    std_C = np.std(C)\n",
    "    cdf_C = norm.cdf(C, loc=average_C, scale=std_C)\n",
    "    return cdf_C, average_C"
   ]
  },
  {
   "cell_type": "code",
   "execution_count": 131,
   "metadata": {},
   "outputs": [
    {
     "name": "stdout",
     "output_type": "stream",
     "text": [
      "n - 1\n",
      "n - 2\n",
      "n - 8\n",
      "n - 16\n",
      "n - 24\n",
      "n - 32\n",
      "n - 40\n"
     ]
    },
    {
     "data": {
      "image/png": "[encoded data removed]",
      "text/plain": [
       "<Figure size 864x288 with 1 Axes>"
      ]
     },
     "metadata": {
      "needs_background": "light"
     },
     "output_type": "display_data"
    }
   ],
   "source": [
    "plt.figure(figsize=(12,4))\n",
    "AVG = np.array([])\n",
    "for i in range(len(us)):\n",
    "    C = np.zeros(mc)\n",
    "    for j in range(mc):\n",
    "        np.random.seed(j)\n",
    "        C[j] = sinr_mc(us[i], N, BS, P_dBm)\n",
    "        AVG = np.append(AVG, avg)\n",
    "    CDF, avg = cdf(C)\n",
    "    label = ('{} users'.format(us[i]))\n",
    "    plt.plot(np.sort(C), CDF, label=label)\n",
    "    print(\"n - \" + str(us[i]))\n",
    "plt.ylabel(\"CDF\")\n",
    "plt.xlabel(\"Channel Capacity [bits/Hz]\")\n",
    "plt.legend(bbox_to_anchor=(1.05, 1.0), loc='upper left')\n",
    "plt.grid()"
   ]
  },
  {
   "cell_type": "code",
   "execution_count": 151,
   "metadata": {},
   "outputs": [
    {
     "name": "stdout",
     "output_type": "stream",
     "text": [
      "n - 1\n",
      "n - 2\n",
      "n - 4\n",
      "n - 6\n",
      "n - 8\n",
      "n - 10\n",
      "n - 12\n",
      "n - 14\n",
      "n - 16\n",
      "n - 18\n",
      "n - 19\n",
      "n - 20\n",
      "n - 22\n",
      "n - 24\n",
      "n - 26\n",
      "n - 28\n",
      "n - 30\n",
      "n - 32\n",
      "n - 34\n",
      "n - 36\n",
      "n - 38\n",
      "n - 40\n"
     ]
    },
    {
     "data": {
      "image/png": "[encoded data removed]",
      "text/plain": [
       "<Figure size 864x288 with 1 Axes>"
      ]
     },
     "metadata": {
      "needs_background": "light"
     },
     "output_type": "display_data"
    }
   ],
   "source": [
    "plt.figure(figsize=(12,4))\n",
    "AVG = np.array([])\n",
    "for i in range(len(n)):\n",
    "    C = np.zeros(mc)\n",
    "    for j in range(mc):\n",
    "        np.random.seed(j)\n",
    "        C[j] = sinr_mc(n[i], N, BS, P_dBm)\n",
    "    CDF, avg = cdf(C)\n",
    "    AVG = np.append(AVG, avg)\n",
    "    label = ('{} users'.format(n[i]))\n",
    "    print(\"n - \" + str(n[i]))\n",
    "plt.plot(n, AVG, label=label)\n",
    "plt.ylabel(\"Average Channel Capacity [bits/Hz]\")\n",
    "plt.xlabel(\"Users\")\n",
    "plt.legend(bbox_to_anchor=(1.05, 1.0), loc='upper left')\n",
    "plt.grid()"
   ]
  },
  {
   "cell_type": "code",
   "execution_count": 37,
   "metadata": {},
   "outputs": [],
   "source": [
    "def cdf(C):\n",
    "    C = np.sort(C)\n",
    "    average_C = np.mean(C)\n",
    "    std_C = np.std(C)\n",
    "    cdf_C = norm.cdf(C, loc=average_C, scale=std_C)\n",
    "    return cdf_C"
   ]
  },
  {
   "cell_type": "code",
   "execution_count": null,
   "metadata": {},
   "outputs": [],
   "source": [
    "for i in n:\n",
    "    C = np.sort(C)# / num_ue\n",
    "    average_C = np.mean(C)\n",
    "    std_C = np.std(C)\n",
    "    cdf_C = norm.cdf(C, loc=average_C, scale=std_C)\n",
    "    \n",
    "    label = ('{} users'.format(i))\n",
    "    ax.plot(C, cdf_C, label=label)\n",
    "    print('Average Channel Capacity for {} users: {} bits/Hz'.format(i, average_C))\n",
    "ax.set_ylabel(\"CDF\")\n",
    "ax.set_xlabel(\"Channel Capacity [bits/Hz]\")\n",
    "plt.legend()"
   ]
  },
  {
   "cell_type": "code",
   "execution_count": null,
   "metadata": {},
   "outputs": [],
   "source": []
  },
  {
   "cell_type": "markdown",
   "metadata": {},
   "source": [
    "##### Main parameters"
   ]
  },
  {
   "cell_type": "code",
   "execution_count": 78,
   "metadata": {},
   "outputs": [],
   "source": [
    "#Numero de antenas no arranjo\n",
    "N = 5\n",
    "\n",
    "#Tamanho das torres de BS\n",
    "bs_height = 15 #m\n",
    "#Espaçamento entre cada BS\n",
    "gap_bs = 50 #m\n",
    "\n",
    "#Potencia de cada base\n",
    "P_t = 40 #dBm\n",
    "\n",
    "#Number of Monte Carlo realizations\n",
    "mc = 1000"
   ]
  },
  {
   "cell_type": "markdown",
   "metadata": {},
   "source": [
    "#### Plotting a map"
   ]
  },
  {
   "cell_type": "code",
   "execution_count": 84,
   "metadata": {
    "scrolled": true
   },
   "outputs": [
    {
     "ename": "IndexError",
     "evalue": "index 2 is out of bounds for axis 0 with size 1",
     "output_type": "error",
     "traceback": [
      "\u001b[1;31m---------------------------------------------------------------------------\u001b[0m",
      "\u001b[1;31mIndexError\u001b[0m                                Traceback (most recent call last)",
      "\u001b[1;32m<ipython-input-84-9e23c5311df9>\u001b[0m in \u001b[0;36m<module>\u001b[1;34m\u001b[0m\n\u001b[0;32m     13\u001b[0m     \u001b[1;32mfor\u001b[0m \u001b[0mk\u001b[0m \u001b[1;32min\u001b[0m \u001b[0mrange\u001b[0m\u001b[1;33m(\u001b[0m\u001b[0mmc\u001b[0m\u001b[1;33m)\u001b[0m\u001b[1;33m:\u001b[0m\u001b[1;33m\u001b[0m\u001b[1;33m\u001b[0m\u001b[0m\n\u001b[0;32m     14\u001b[0m         \u001b[0mUE\u001b[0m \u001b[1;33m=\u001b[0m \u001b[0musuário\u001b[0m\u001b[1;33m(\u001b[0m\u001b[0mnum_ue\u001b[0m\u001b[1;33m,\u001b[0m \u001b[1;36m200\u001b[0m\u001b[1;33m,\u001b[0m \u001b[1;36m100\u001b[0m\u001b[1;33m)\u001b[0m\u001b[1;33m\u001b[0m\u001b[1;33m\u001b[0m\u001b[0m\n\u001b[1;32m---> 15\u001b[1;33m         \u001b[0mh\u001b[0m \u001b[1;33m=\u001b[0m \u001b[0mchannel_user\u001b[0m\u001b[1;33m(\u001b[0m\u001b[0mN\u001b[0m\u001b[1;33m,\u001b[0m \u001b[0mUE\u001b[0m\u001b[1;33m,\u001b[0m \u001b[0mres\u001b[0m\u001b[1;33m,\u001b[0m \u001b[0mi\u001b[0m\u001b[1;33m)\u001b[0m\u001b[1;33m\u001b[0m\u001b[1;33m\u001b[0m\u001b[0m\n\u001b[0m\u001b[0;32m     16\u001b[0m         \u001b[0mw\u001b[0m \u001b[1;33m=\u001b[0m \u001b[0mget_beamforming\u001b[0m\u001b[1;33m(\u001b[0m\u001b[0mh\u001b[0m\u001b[1;33m)\u001b[0m\u001b[1;33m\u001b[0m\u001b[1;33m\u001b[0m\u001b[0m\n\u001b[0;32m     17\u001b[0m         \u001b[0mSINR\u001b[0m \u001b[1;33m=\u001b[0m \u001b[0msinr\u001b[0m\u001b[1;33m(\u001b[0m\u001b[0mh\u001b[0m\u001b[1;33m,\u001b[0m \u001b[0mw\u001b[0m\u001b[1;33m,\u001b[0m \u001b[0mj\u001b[0m\u001b[1;33m,\u001b[0m \u001b[0mi\u001b[0m\u001b[1;33m,\u001b[0m \u001b[0mσ\u001b[0m\u001b[1;33m)\u001b[0m\u001b[1;33m\u001b[0m\u001b[1;33m\u001b[0m\u001b[0m\n",
      "\u001b[1;32m<ipython-input-71-e9bd9ac4ed83>\u001b[0m in \u001b[0;36mchannel_user\u001b[1;34m(N, usuario, res, i)\u001b[0m\n\u001b[0;32m     31\u001b[0m     \u001b[0my\u001b[0m \u001b[1;33m=\u001b[0m \u001b[0mnp\u001b[0m\u001b[1;33m.\u001b[0m\u001b[0marray\u001b[0m\u001b[1;33m(\u001b[0m\u001b[1;33m[\u001b[0m\u001b[1;33m]\u001b[0m\u001b[1;33m)\u001b[0m\u001b[1;33m\u001b[0m\u001b[1;33m\u001b[0m\u001b[0m\n\u001b[0;32m     32\u001b[0m     \u001b[1;32mfor\u001b[0m \u001b[0mx\u001b[0m \u001b[1;32min\u001b[0m \u001b[0mrange\u001b[0m\u001b[1;33m(\u001b[0m\u001b[0mres\u001b[0m\u001b[1;33m[\u001b[0m\u001b[0mi\u001b[0m\u001b[1;33m]\u001b[0m\u001b[1;33m.\u001b[0m\u001b[0mshape\u001b[0m\u001b[1;33m[\u001b[0m\u001b[1;36m0\u001b[0m\u001b[1;33m]\u001b[0m\u001b[1;33m)\u001b[0m\u001b[1;33m:\u001b[0m\u001b[1;33m\u001b[0m\u001b[1;33m\u001b[0m\u001b[0m\n\u001b[1;32m---> 33\u001b[1;33m         \u001b[0mR\u001b[0m \u001b[1;33m=\u001b[0m \u001b[0mnp\u001b[0m\u001b[1;33m.\u001b[0m\u001b[0mlinalg\u001b[0m\u001b[1;33m.\u001b[0m\u001b[0mnorm\u001b[0m\u001b[1;33m(\u001b[0m\u001b[0musuario\u001b[0m\u001b[1;33m[\u001b[0m\u001b[0mi\u001b[0m\u001b[1;33m]\u001b[0m \u001b[1;33m-\u001b[0m \u001b[0mres\u001b[0m\u001b[1;33m[\u001b[0m\u001b[0mi\u001b[0m\u001b[1;33m]\u001b[0m\u001b[1;33m[\u001b[0m\u001b[0mx\u001b[0m\u001b[1;33m]\u001b[0m\u001b[1;33m)\u001b[0m\u001b[1;33m\u001b[0m\u001b[1;33m\u001b[0m\u001b[0m\n\u001b[0m\u001b[0;32m     34\u001b[0m         \u001b[0my\u001b[0m \u001b[1;33m=\u001b[0m \u001b[0mrand_channel\u001b[0m\u001b[1;33m(\u001b[0m\u001b[0mR\u001b[0m\u001b[1;33m,\u001b[0m \u001b[0mN\u001b[0m\u001b[1;33m)\u001b[0m\u001b[1;33m\u001b[0m\u001b[1;33m\u001b[0m\u001b[0m\n\u001b[0;32m     35\u001b[0m         \u001b[0mh\u001b[0m \u001b[1;33m=\u001b[0m \u001b[0mnp\u001b[0m\u001b[1;33m.\u001b[0m\u001b[0mappend\u001b[0m\u001b[1;33m(\u001b[0m\u001b[0mh\u001b[0m\u001b[1;33m,\u001b[0m \u001b[0my\u001b[0m\u001b[1;33m)\u001b[0m\u001b[1;33m\u001b[0m\u001b[1;33m\u001b[0m\u001b[0m\n",
      "\u001b[1;31mIndexError\u001b[0m: index 2 is out of bounds for axis 0 with size 1"
     ]
    },
    {
     "data": {
      "image/png": "[encoded data removed]",
      "text/plain": [
       "<Figure size 792x360 with 1 Axes>"
      ]
     },
     "metadata": {
      "needs_background": "light"
     },
     "output_type": "display_data"
    }
   ],
   "source": [
    "#total,BS = bases(50, 200, 100)\n",
    "#número de UEs\n",
    "max_UE = 4\n",
    "N_ue = np.arange(max_UE)+1\n",
    "\n",
    "#Calculando a capacidade de canal para UE recebendo sinal de todas as BS:\n",
    "p = np.ones(max_UE)\n",
    "p = p * inv_dbm(P_t)\n",
    "\n",
    "fig, ax = plt.subplots(figsize = (11,5))\n",
    "for num_ue in N_ue:\n",
    "    C = np.zeros(mc)\n",
    "    for k in range(mc):\n",
    "        UE = usuário(num_ue, 200, 100)\n",
    "        h = channel_user(N, UE, res, i)\n",
    "        w = get_beamforming(h)\n",
    "        SINR = sinr(h, w, j, i, σ)\n",
    "        for SINRi in SINR:\n",
    "            C[k] += np.log2(1+SINRi.mean())\n",
    "    C = np.sort(C)# / num_ue\n",
    "    average_C = np.mean(C)\n",
    "    std_C = np.std(C)\n",
    "    cdf_C = norm.cdf(C, loc=average_C, scale=std_C)\n",
    "    \n",
    "    label = ('{} users'.format(num_ue))\n",
    "    ax.plot(C, cdf_C, label=label)\n",
    "    print('Average Channel Capacity for {} users: {} bits/Hz'.format(num_ue, average_C))\n",
    "ax.set_ylabel(\"CDF\")\n",
    "ax.set_xlabel(\"Channel Capacity [bits/Hz]\")\n",
    "plt.legend()"
   ]
  },
  {
   "cell_type": "code",
   "execution_count": 10,
   "metadata": {
    "scrolled": false
   },
   "outputs": [
    {
     "name": "stdout",
     "output_type": "stream",
     "text": [
      "SINR: [[0.53878442 1.30153095 0.62102836]\n",
      " [0.62546247 0.72921625 1.00310427]\n",
      " [0.68964899 1.04231687 0.69224802]\n",
      " [0.7052931  0.70038512 0.51387591]]\n",
      "SINRmean: 0.820447907679085\n"
     ]
    }
   ],
   "source": [
    "n_ue = 4\n",
    "p = np.ones(n_ue)\n",
    "p = p * inv_db(P_t)\n",
    "UE = usuário(n_ue, 200, 100)\n",
    "SINR = compute_sinr(N, UE, BS, p, n_stream)\n",
    "print('SINR: {}'.format(SINR))\n",
    "SINR_mean = SINR[0].mean()\n",
    "print('SINRmean: {}'.format(SINR_mean))"
   ]
  },
  {
   "cell_type": "code",
   "execution_count": null,
   "metadata": {},
   "outputs": [],
   "source": []
  }
 ],
 "metadata": {
  "kernelspec": {
   "display_name": "Python 3",
   "language": "python",
   "name": "python3"
  },
  "language_info": {
   "codemirror_mode": {
    "name": "ipython",
    "version": 3
   },
   "file_extension": ".py",
   "mimetype": "text/x-python",
   "name": "python",
   "nbconvert_exporter": "python",
   "pygments_lexer": "ipython3",
   "version": "3.7.6"
  }
 },
 "nbformat": 4,
 "nbformat_minor": 4
}
