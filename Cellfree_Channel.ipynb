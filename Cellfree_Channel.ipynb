{
 "cells": [
  {
   "cell_type": "markdown",
   "metadata": {},
   "source": [
    "### Written by  [Gabriel Borges Pinheiro](github.com/gabrielbopi) & Wissam Melo"
   ]
  },
  {
   "cell_type": "code",
   "execution_count": 1,
   "metadata": {},
   "outputs": [],
   "source": [
    "import numpy as np\n",
    "from scipy.stats import norm\n",
    "import matplotlib.pyplot as plt\n",
    "%matplotlib inline\n",
    "\n",
    "# This import registers the 3D projection, but is otherwise unused.\n",
    "from mpl_toolkits.mplot3d import Axes3D  # noqa: F401 unused import"
   ]
  },
  {
   "cell_type": "markdown",
   "metadata": {},
   "source": [
    "#### Creating the test environment"
   ]
  },
  {
   "cell_type": "code",
   "execution_count": 2,
   "metadata": {},
   "outputs": [],
   "source": [
    "def bases(D, x, y, alt=15):\n",
    "    num_x = int(x/D)\n",
    "    num_y = int(y/D)\n",
    "    total = num_x*num_y\n",
    "    n = np.array([])\n",
    "    for i in range(num_y):\n",
    "        for j in range(num_x):\n",
    "            n = np.append(n, np.array([(j*D)+(D/2),(i*D)+(D/2),alt])) \n",
    "        \n",
    "    return total, n.reshape(total,3)\n",
    "\n",
    "def usuário(n, x, y):\n",
    "    UE = np.array([])\n",
    "    for i in range(n):\n",
    "        UE = np.append(UE,np.array([x*np.random.random(),y*np.random.random(),1.5]))\n",
    "    return UE.reshape(n,3)"
   ]
  },
  {
   "cell_type": "code",
   "execution_count": 3,
   "metadata": {},
   "outputs": [],
   "source": [
    "def BSs_per_UE(BS, UE, total):\n",
    "    endereços = []\n",
    "\n",
    "    for n in range(num_ue):\n",
    "        BS_UE = np.array([])\n",
    "        conectadas = 0\n",
    "        for i in range(total):\n",
    "            dist = np.linalg.norm(BS[i]-UE[n])\n",
    "            if dist <= 50:\n",
    "                conectadas += 1\n",
    "                BS_UE = np.append(BS_UE, BS[i])\n",
    "        BS_UE = np.append(BS_UE, 0)\n",
    "        endereços = np.append(endereços,BS_UE)\n",
    "  \n",
    "    # using list comprehension + zip() + slicing + enumerate() \n",
    "    # Split list into lists by particular value \n",
    "    size = len(endereços) \n",
    "    idx_list = [idx + 1 for idx, val in enumerate(endereços) if val == 0] \n",
    "    res = [endereços[i: j] for i, j in zip([0] + idx_list, idx_list + ([size] if idx_list[-1] != size else []))]\n",
    "    \n",
    "    for i in range(len(res)):\n",
    "        indices = np.where(res[i]==0)\n",
    "        res[i] = np.delete(res[i], indices)\n",
    "        res[i] = res[i].reshape(int((res[i].shape[0])/3),3)\n",
    "    res = np.array(res)\n",
    "    return res"
   ]
  },
  {
   "cell_type": "code",
   "execution_count": 4,
   "metadata": {},
   "outputs": [],
   "source": [
    "def UEs_per_BS(BS, UE, total):\n",
    "    positions = []\n",
    "\n",
    "    for n in range(total):\n",
    "        BS_UE = np.array([])\n",
    "        conectados = 0\n",
    "        for i in range(len(UE)):\n",
    "            dist = np.linalg.norm(BS[n]-UE[i])\n",
    "            if dist <= 50:\n",
    "                conectados += 1\n",
    "                BS_UE = np.append(BS_UE, UE[i])\n",
    "        BS_UE = np.append(BS_UE, 0)\n",
    "        positions = np.append(positions,BS_UE)\n",
    "    \n",
    "    # using list comprehension + zip() + slicing + enumerate() \n",
    "    # Split list into lists by particular value \n",
    "    size = len(positions) \n",
    "    idx_list = [idx + 1 for idx, val in enumerate(positions) if val == 0]\n",
    "    antenna = [positions[i: j] for i, j in zip([0] + idx_list, idx_list + ([size] if idx_list[-1] != size else []))] \n",
    "\n",
    "    for i in range(len(antenna)):\n",
    "        indices = np.where(antenna[i]==0)\n",
    "        antenna[i] = np.delete(antenna[i], indices)\n",
    "        antenna[i] = antenna[i].reshape(int((antenna[i].shape[0])/3),3)\n",
    "    return antenna"
   ]
  },
  {
   "cell_type": "markdown",
   "metadata": {},
   "source": [
    "##### Generating BSs and UEs"
   ]
  },
  {
   "cell_type": "code",
   "execution_count": 5,
   "metadata": {},
   "outputs": [],
   "source": [
    "#Espaçamento entre cada BS\n",
    "gap_bs = 50 #m\n",
    "#Number of users\n",
    "num_ue = 1\n",
    "\n",
    "total,BS = bases(gap_bs, 200, 100)\n",
    "UE = usuário(num_ue, 200, 100)\n",
    "UEs_antenna = UEs_per_BS(BS, UE, total)\n",
    "BSUE = BSs_per_UE(BS, UE, total)"
   ]
  },
  {
   "cell_type": "code",
   "execution_count": 6,
   "metadata": {},
   "outputs": [
    {
     "data": {
      "text/plain": [
       "array([[ 25.,  25.,  15.],\n",
       "       [ 75.,  25.,  15.],\n",
       "       [125.,  25.,  15.],\n",
       "       [175.,  25.,  15.],\n",
       "       [ 25.,  75.,  15.],\n",
       "       [ 75.,  75.,  15.],\n",
       "       [125.,  75.,  15.],\n",
       "       [175.,  75.,  15.]])"
      ]
     },
     "execution_count": 6,
     "metadata": {},
     "output_type": "execute_result"
    }
   ],
   "source": [
    "BS"
   ]
  },
  {
   "cell_type": "code",
   "execution_count": 7,
   "metadata": {},
   "outputs": [
    {
     "data": {
      "text/plain": [
       "array([[138.15566604,  18.53574499,   1.5       ]])"
      ]
     },
     "execution_count": 7,
     "metadata": {},
     "output_type": "execute_result"
    }
   ],
   "source": [
    "UE"
   ]
  },
  {
   "cell_type": "code",
   "execution_count": 8,
   "metadata": {},
   "outputs": [
    {
     "data": {
      "text/plain": [
       "[array([], shape=(0, 3), dtype=float64),\n",
       " array([], shape=(0, 3), dtype=float64),\n",
       " array([[138.15566604,  18.53574499,   1.5       ]]),\n",
       " array([[138.15566604,  18.53574499,   1.5       ]]),\n",
       " array([], shape=(0, 3), dtype=float64),\n",
       " array([], shape=(0, 3), dtype=float64),\n",
       " array([], shape=(0, 3), dtype=float64),\n",
       " array([], shape=(0, 3), dtype=float64)]"
      ]
     },
     "execution_count": 8,
     "metadata": {},
     "output_type": "execute_result"
    }
   ],
   "source": [
    "UEs_antenna"
   ]
  },
  {
   "cell_type": "code",
   "execution_count": 9,
   "metadata": {},
   "outputs": [
    {
     "data": {
      "text/plain": [
       "8"
      ]
     },
     "execution_count": 9,
     "metadata": {},
     "output_type": "execute_result"
    }
   ],
   "source": [
    "len(UEs_antenna)"
   ]
  },
  {
   "cell_type": "code",
   "execution_count": 10,
   "metadata": {},
   "outputs": [
    {
     "data": {
      "text/plain": [
       "array([[[125.,  25.,  15.],\n",
       "        [175.,  25.,  15.]]])"
      ]
     },
     "execution_count": 10,
     "metadata": {},
     "output_type": "execute_result"
    }
   ],
   "source": [
    "BSUE"
   ]
  },
  {
   "cell_type": "markdown",
   "metadata": {},
   "source": [
    "#### Calculating the parameters"
   ]
  },
  {
   "cell_type": "code",
   "execution_count": 11,
   "metadata": {},
   "outputs": [],
   "source": [
    "def db(X):\n",
    "    return 10 * np.log10(np.abs(X))\n",
    "def inv_db(X):\n",
    "    return 10**(X/10)\n",
    "def dbm(X):\n",
    "    return 10 * np.log10(np.abs(X)/(1e-3))\n",
    "def inv_dbm(X):\n",
    "    return (1e-3) * 10**(X/10)"
   ]
  },
  {
   "cell_type": "code",
   "execution_count": 12,
   "metadata": {},
   "outputs": [],
   "source": [
    "def β_channel(D):\n",
    "    \"\"\"\n",
    "    Returns the \n",
    "    \"\"\"\n",
    "    #Carrier frequency (LTE band 7)\n",
    "    f = 2.6e9\n",
    "    #Wavelength\n",
    "    λ = 3e8/f\n",
    "    R = D\n",
    "    #Linear pathloss\n",
    "    L_lin =  (λ/(4*np.pi*R))**2\n",
    "    β = L_lin\n",
    "    return β\n",
    "\n",
    "def rand_channel(D, N):\n",
    "    \"\"\"\n",
    "    Returns the channel\n",
    "    \"\"\"\n",
    "    β = β_channel(D)\n",
    "    ampl = np.sqrt(β)/2\n",
    "    h = (np.random.randn(N) + 1j*np.random.randn(N)) * ampl\n",
    "    return h\n",
    "\n",
    "def channel_user2(num_ue,numBS,nAntennas,UEpos,BSpos,UEs_antenna):\n",
    "    \"\"\"\n",
    "    Retorna uma matriz 3D, onde h[UE][BS]{stream}\n",
    "    \"\"\"\n",
    "    H = np.zeros((num_ue,numBS,nAntennas),dtype=complex)\n",
    "\n",
    "    for ii in range(numBS):\n",
    "        for jj in range(UEs_antenna[ii].shape[0]):\n",
    "            user = np.argmin(np.sum(np.abs(UEs_antenna[ii][jj] - UEpos),axis=1))\n",
    "            R = np.linalg.norm(BSpos[ii] - UEs_antenna[ii][jj]) \n",
    "            H[int(user)][ii] = rand_channel(R, nAntennas)\n",
    "\n",
    "    return H\n",
    "\n",
    "def powerUE(num_ue, total, UEpos,UEs_antenna, P_dBm):\n",
    "    p = np.zeros(num_ue)\n",
    "    for i in range(total):\n",
    "        UE_BS = UEs_antenna[i].shape[0]\n",
    "        for j in range(UEs_antenna[i].shape[0]):\n",
    "            user = np.argmin(np.sum(np.abs(UEs_antenna[i][j] - UEpos),axis=1))\n",
    "            p[int(user)] =  p[int(user)] + (inv_dbm(P_dBm)/int(UE_BS))\n",
    "    return dbm(p)\n",
    "\n",
    "def get_beamforming(h, num_ue, total, P_dBm):\n",
    "    p = inv_dbm(P_dBm)\n",
    "    v = np.zeros((num_ue,total*N), dtype = 'complex_')\n",
    "    for i in range(num_ue):\n",
    "        v[i] = np.sqrt(p[i])*(np.conjugate(h[i])/np.linalg.norm(h[i]))\n",
    "        \n",
    "    return v"
   ]
  },
  {
   "cell_type": "code",
   "execution_count": 13,
   "metadata": {},
   "outputs": [
    {
     "data": {
      "text/plain": [
       "array([43.01029996])"
      ]
     },
     "execution_count": 13,
     "metadata": {},
     "output_type": "execute_result"
    }
   ],
   "source": [
    "P_dBm = 40\n",
    "P_dBm = powerUE(num_ue, total, UE,UEs_antenna, P_dBm)\n",
    "P_dBm"
   ]
  },
  {
   "cell_type": "code",
   "execution_count": 14,
   "metadata": {},
   "outputs": [],
   "source": [
    "#Numero de antenas no arranjo\n",
    "N = 5\n",
    "\n",
    "#h = channel_user(N, UE, total, BSUE)\n",
    "H = channel_user2(num_ue,total,N,UE,BS,UEs_antenna)"
   ]
  },
  {
   "cell_type": "code",
   "execution_count": 15,
   "metadata": {
    "scrolled": false
   },
   "outputs": [
    {
     "data": {
      "text/plain": [
       "array([[[ 0.00000000e+00+0.00000000e+00j,\n",
       "          0.00000000e+00+0.00000000e+00j,\n",
       "          0.00000000e+00+0.00000000e+00j,\n",
       "          0.00000000e+00+0.00000000e+00j,\n",
       "          0.00000000e+00+0.00000000e+00j],\n",
       "        [ 0.00000000e+00+0.00000000e+00j,\n",
       "          0.00000000e+00+0.00000000e+00j,\n",
       "          0.00000000e+00+0.00000000e+00j,\n",
       "          0.00000000e+00+0.00000000e+00j,\n",
       "          0.00000000e+00+0.00000000e+00j],\n",
       "        [-1.84491075e-04-4.67170963e-04j,\n",
       "         -3.76167891e-04+2.81935371e-04j,\n",
       "         -2.82120877e-04-1.36339587e-04j,\n",
       "          4.73684304e-04+3.63261234e-04j,\n",
       "         -1.33622226e-04+1.61388447e-04j],\n",
       "        [-1.27708396e-04-3.12120784e-04j,\n",
       "         -1.17006975e-04+6.81658060e-05j,\n",
       "         -3.06660915e-05-7.65999544e-05j,\n",
       "         -5.23202102e-05+1.62871597e-04j,\n",
       "         -5.64262027e-05+1.85530521e-05j],\n",
       "        [ 0.00000000e+00+0.00000000e+00j,\n",
       "          0.00000000e+00+0.00000000e+00j,\n",
       "          0.00000000e+00+0.00000000e+00j,\n",
       "          0.00000000e+00+0.00000000e+00j,\n",
       "          0.00000000e+00+0.00000000e+00j],\n",
       "        [ 0.00000000e+00+0.00000000e+00j,\n",
       "          0.00000000e+00+0.00000000e+00j,\n",
       "          0.00000000e+00+0.00000000e+00j,\n",
       "          0.00000000e+00+0.00000000e+00j,\n",
       "          0.00000000e+00+0.00000000e+00j],\n",
       "        [ 0.00000000e+00+0.00000000e+00j,\n",
       "          0.00000000e+00+0.00000000e+00j,\n",
       "          0.00000000e+00+0.00000000e+00j,\n",
       "          0.00000000e+00+0.00000000e+00j,\n",
       "          0.00000000e+00+0.00000000e+00j],\n",
       "        [ 0.00000000e+00+0.00000000e+00j,\n",
       "          0.00000000e+00+0.00000000e+00j,\n",
       "          0.00000000e+00+0.00000000e+00j,\n",
       "          0.00000000e+00+0.00000000e+00j,\n",
       "          0.00000000e+00+0.00000000e+00j]]])"
      ]
     },
     "execution_count": 15,
     "metadata": {},
     "output_type": "execute_result"
    }
   ],
   "source": [
    "H"
   ]
  },
  {
   "cell_type": "code",
   "execution_count": 16,
   "metadata": {},
   "outputs": [
    {
     "data": {
      "text/plain": [
       "2"
      ]
     },
     "execution_count": 16,
     "metadata": {},
     "output_type": "execute_result"
    }
   ],
   "source": [
    "BSUE[0].shape[0]"
   ]
  },
  {
   "cell_type": "code",
   "execution_count": 17,
   "metadata": {},
   "outputs": [],
   "source": [
    "def vectorize(H, num_ue, total, N):\n",
    "    h = np.zeros((num_ue, N*total), dtype ='complex_')\n",
    "    for i in range(num_ue):\n",
    "        h[i] = H[i].reshape(N*total)\n",
    "    return h\n",
    "\n",
    "H = vectorize(H, 1, total, N)"
   ]
  },
  {
   "cell_type": "code",
   "execution_count": 18,
   "metadata": {
    "scrolled": false
   },
   "outputs": [
    {
     "data": {
      "text/plain": [
       "array([[ 0.00000000e+00+0.00000000e+00j,  0.00000000e+00+0.00000000e+00j,\n",
       "         0.00000000e+00+0.00000000e+00j,  0.00000000e+00+0.00000000e+00j,\n",
       "         0.00000000e+00+0.00000000e+00j,  0.00000000e+00+0.00000000e+00j,\n",
       "         0.00000000e+00+0.00000000e+00j,  0.00000000e+00+0.00000000e+00j,\n",
       "         0.00000000e+00+0.00000000e+00j,  0.00000000e+00+0.00000000e+00j,\n",
       "        -1.84491075e-04-4.67170963e-04j, -3.76167891e-04+2.81935371e-04j,\n",
       "        -2.82120877e-04-1.36339587e-04j,  4.73684304e-04+3.63261234e-04j,\n",
       "        -1.33622226e-04+1.61388447e-04j, -1.27708396e-04-3.12120784e-04j,\n",
       "        -1.17006975e-04+6.81658060e-05j, -3.06660915e-05-7.65999544e-05j,\n",
       "        -5.23202102e-05+1.62871597e-04j, -5.64262027e-05+1.85530521e-05j,\n",
       "         0.00000000e+00+0.00000000e+00j,  0.00000000e+00+0.00000000e+00j,\n",
       "         0.00000000e+00+0.00000000e+00j,  0.00000000e+00+0.00000000e+00j,\n",
       "         0.00000000e+00+0.00000000e+00j,  0.00000000e+00+0.00000000e+00j,\n",
       "         0.00000000e+00+0.00000000e+00j,  0.00000000e+00+0.00000000e+00j,\n",
       "         0.00000000e+00+0.00000000e+00j,  0.00000000e+00+0.00000000e+00j,\n",
       "         0.00000000e+00+0.00000000e+00j,  0.00000000e+00+0.00000000e+00j,\n",
       "         0.00000000e+00+0.00000000e+00j,  0.00000000e+00+0.00000000e+00j,\n",
       "         0.00000000e+00+0.00000000e+00j,  0.00000000e+00+0.00000000e+00j,\n",
       "         0.00000000e+00+0.00000000e+00j,  0.00000000e+00+0.00000000e+00j,\n",
       "         0.00000000e+00+0.00000000e+00j,  0.00000000e+00+0.00000000e+00j]])"
      ]
     },
     "execution_count": 18,
     "metadata": {},
     "output_type": "execute_result"
    }
   ],
   "source": [
    "H"
   ]
  },
  {
   "cell_type": "code",
   "execution_count": 19,
   "metadata": {},
   "outputs": [],
   "source": [
    "v = get_beamforming(H, num_ue, total, P_dBm)"
   ]
  },
  {
   "cell_type": "code",
   "execution_count": 20,
   "metadata": {},
   "outputs": [
    {
     "data": {
      "text/plain": [
       "array([[ 0.        +0.j        ,  0.        +0.j        ,\n",
       "         0.        +0.j        ,  0.        +0.j        ,\n",
       "         0.        +0.j        ,  0.        +0.j        ,\n",
       "         0.        +0.j        ,  0.        +0.j        ,\n",
       "         0.        +0.j        ,  0.        +0.j        ,\n",
       "        -0.77161196+1.95388695j, -1.57327743-1.17916113j,\n",
       "        -1.17993699+0.57022409j,  1.98112822-1.51929687j,\n",
       "        -0.55885905-0.67498797j, -0.53412516+1.30540803j,\n",
       "        -0.48936775-0.28509537j, -0.12825728+0.32037019j,\n",
       "        -0.21882305-0.68119107j, -0.23599588-0.07759593j,\n",
       "         0.        +0.j        ,  0.        +0.j        ,\n",
       "         0.        +0.j        ,  0.        +0.j        ,\n",
       "         0.        +0.j        ,  0.        +0.j        ,\n",
       "         0.        +0.j        ,  0.        +0.j        ,\n",
       "         0.        +0.j        ,  0.        +0.j        ,\n",
       "         0.        +0.j        ,  0.        +0.j        ,\n",
       "         0.        +0.j        ,  0.        +0.j        ,\n",
       "         0.        +0.j        ,  0.        +0.j        ,\n",
       "         0.        +0.j        ,  0.        +0.j        ,\n",
       "         0.        +0.j        ,  0.        +0.j        ]])"
      ]
     },
     "execution_count": 20,
     "metadata": {},
     "output_type": "execute_result"
    }
   ],
   "source": [
    "v"
   ]
  },
  {
   "cell_type": "code",
   "execution_count": 21,
   "metadata": {},
   "outputs": [],
   "source": [
    "#Band of signal\n",
    "B = 1e6 #Hz\n",
    "#Power of noise (-127dBm is average)\n",
    "N0 = inv_dbm(-127)\n",
    "σ = B*N0"
   ]
  },
  {
   "cell_type": "code",
   "execution_count": 22,
   "metadata": {},
   "outputs": [
    {
     "data": {
      "text/plain": [
       "1.9952623149688826e-10"
      ]
     },
     "execution_count": 22,
     "metadata": {},
     "output_type": "execute_result"
    }
   ],
   "source": [
    "σ"
   ]
  },
  {
   "cell_type": "code",
   "execution_count": 23,
   "metadata": {},
   "outputs": [],
   "source": [
    "def sinr(h, V, j, σ):\n",
    "    \n",
    "    num = np.abs(V[j].transpose()@h)**2\n",
    "    den = np.zeros(num.shape)\n",
    "    for x in range(V.shape[0]):\n",
    "        #if V[x]:\n",
    "        if x!=j:\n",
    "            #den = np.add(den, np.abs(V[x].transpose()@h)**2)\n",
    "            den += np.abs(V[x].transpose()@h)**2\n",
    "    return (num/(den+σ))"
   ]
  },
  {
   "cell_type": "code",
   "execution_count": 24,
   "metadata": {
    "scrolled": true
   },
   "outputs": [],
   "source": [
    "j = 0\n",
    "s_inr = sinr(H[j], v, j, σ)"
   ]
  },
  {
   "cell_type": "code",
   "execution_count": 25,
   "metadata": {},
   "outputs": [
    {
     "data": {
      "text/plain": [
       "114607.4400798683"
      ]
     },
     "execution_count": 25,
     "metadata": {},
     "output_type": "execute_result"
    }
   ],
   "source": [
    "s_inr"
   ]
  },
  {
   "cell_type": "code",
   "execution_count": 26,
   "metadata": {},
   "outputs": [
    {
     "name": "stdout",
     "output_type": "stream",
     "text": [
      "50.5921281205326\n"
     ]
    }
   ],
   "source": [
    "print(db(s_inr))"
   ]
  },
  {
   "cell_type": "code",
   "execution_count": 27,
   "metadata": {},
   "outputs": [],
   "source": [
    "S = np.zeros(len(UE))\n",
    "for i in range(len(UE)):\n",
    "    S[i] = sinr(H[i], v, i, σ)\n"
   ]
  },
  {
   "cell_type": "code",
   "execution_count": 28,
   "metadata": {},
   "outputs": [
    {
     "name": "stdout",
     "output_type": "stream",
     "text": [
      "16.806353766463616\n"
     ]
    }
   ],
   "source": [
    "print(np.sum(np.log2(S+1)))\n",
    "#C"
   ]
  },
  {
   "cell_type": "code",
   "execution_count": 29,
   "metadata": {},
   "outputs": [
    {
     "data": {
      "text/plain": [
       "8"
      ]
     },
     "execution_count": 29,
     "metadata": {},
     "output_type": "execute_result"
    }
   ],
   "source": [
    "BS.shape[0]"
   ]
  },
  {
   "cell_type": "code",
   "execution_count": 30,
   "metadata": {},
   "outputs": [],
   "source": [
    "def sinr_mc(num_ue, N, BS, P_dBm):\n",
    "    \"\"\"\n",
    "    Gerar os canais, Com mesma BS e gerando diferentes UE calculando H,V,sinr e C()\n",
    "    \"\"\"\n",
    "    total = BS.shape[0]\n",
    "    UE = usuário(num_ue, 200, 100)\n",
    "    UEs_antenna = UEs_per_BS(BS, UE, total)\n",
    "    P_dBm = powerUE(num_ue, total, UE,UEs_antenna, P_dBm)\n",
    "    H = channel_user2(num_ue,total,N,UE,BS,UEs_antenna)\n",
    "    H = vectorize(H, num_ue, total, N)\n",
    "    V = get_beamforming(H, num_ue, total, P_dBm)\n",
    "    S = np.zeros(len(UE))\n",
    "    for i in range(len(UE)):\n",
    "        S[i] = sinr(H[i], V, i, σ)\n",
    "    C = np.sum(np.log2(S+1))\n",
    "    \n",
    "    return C"
   ]
  },
  {
   "cell_type": "code",
   "execution_count": 39,
   "metadata": {
    "scrolled": false
   },
   "outputs": [
    {
     "name": "stdout",
     "output_type": "stream",
     "text": [
      "[0.99892126 0.99906209 0.99934413 0.99992093 0.99993916 0.99997993\n",
      " 0.99998059 0.99999288 0.99999349 0.99999586 0.99999637 0.99999731\n",
      " 0.99999773 0.99999835 0.99999849 0.99999899 0.99999908 0.99999912\n",
      " 0.99999939 0.99999944 0.99999972 0.99999972 0.99999976 0.9999998\n",
      " 0.9999999  0.99999992 0.99999993 0.99999996 0.99999996 0.99999998\n",
      " 0.99999998 0.99999998 0.99999999 0.99999999 0.99999999 0.99999999\n",
      " 1.         1.         1.         1.         1.         1.\n",
      " 1.         1.         1.         1.         1.         1.\n",
      " 1.         1.         1.         1.         1.         1.\n",
      " 1.         1.         1.         1.         1.         1.\n",
      " 1.         1.         1.         1.         1.         1.\n",
      " 1.         1.         1.         1.         1.         1.\n",
      " 1.         1.         1.         1.         1.         1.\n",
      " 1.         1.         1.         1.         1.         1.\n",
      " 1.         1.         1.         1.         1.         1.\n",
      " 1.         1.         1.         1.         1.         1.\n",
      " 1.         1.         1.         1.         1.         1.\n",
      " 1.         1.         1.         1.         1.         1.\n",
      " 1.         1.         1.         1.         1.         1.\n",
      " 1.         1.         1.         1.         1.         1.\n",
      " 1.         1.         1.         1.         1.         1.\n",
      " 1.         1.         1.         1.         1.         1.\n",
      " 1.         1.         1.         1.         1.         1.\n",
      " 1.         1.         1.         1.         1.         1.\n",
      " 1.         1.         1.         1.         1.         1.\n",
      " 1.         1.         1.         1.         1.         1.\n",
      " 1.         1.         1.         1.         1.         1.\n",
      " 1.         1.         1.         1.         1.         1.\n",
      " 1.         1.         1.         1.         1.         1.\n",
      " 1.         1.         1.         1.         1.         1.\n",
      " 1.         1.         1.         1.         1.         1.\n",
      " 1.         1.         1.         1.         1.         1.\n",
      " 1.         1.         1.         1.         1.         1.\n",
      " 1.         1.         1.         1.         1.         1.\n",
      " 1.         1.         1.         1.         1.         1.\n",
      " 1.         1.         1.         1.         1.         1.\n",
      " 1.         1.         1.         1.         1.         1.\n",
      " 1.         1.         1.         1.         1.         1.\n",
      " 1.         1.         1.         1.         1.         1.\n",
      " 1.         1.         1.         1.         1.         1.\n",
      " 1.         1.         1.         1.         1.         1.\n",
      " 1.         1.         1.         1.         1.         1.\n",
      " 1.         1.         1.         1.         1.         1.\n",
      " 1.         1.         1.         1.         1.         1.\n",
      " 1.         1.         1.         1.         1.         1.\n",
      " 1.         1.         1.         1.         1.         1.\n",
      " 1.         1.         1.         1.         1.         1.\n",
      " 1.         1.         1.         1.         1.         1.\n",
      " 1.         1.         1.         1.         1.         1.\n",
      " 1.         1.         1.         1.         1.         1.\n",
      " 1.         1.         1.         1.         1.         1.\n",
      " 1.         1.         1.         1.         1.         1.\n",
      " 1.         1.         1.         1.         1.         1.\n",
      " 1.         1.         1.         1.         1.         1.\n",
      " 1.         1.         1.         1.         1.         1.\n",
      " 1.         1.         1.         1.         1.         1.\n",
      " 1.         1.         1.         1.         1.         1.\n",
      " 1.         1.         1.         1.         1.         1.\n",
      " 1.         1.         1.         1.         1.         1.\n",
      " 1.         1.         1.         1.         1.         1.\n",
      " 1.         1.         1.         1.         1.         1.\n",
      " 1.         1.         1.         1.         1.         1.\n",
      " 1.         1.         1.         1.         1.         1.\n",
      " 1.         1.         1.         1.         1.         1.\n",
      " 1.         1.         1.         1.         1.         1.\n",
      " 1.         1.         1.         1.         1.         1.\n",
      " 1.         1.         1.         1.         1.         1.\n",
      " 1.         1.         1.         1.         1.         1.\n",
      " 1.         1.         1.         1.         1.         1.\n",
      " 1.         1.         1.         1.         1.         1.\n",
      " 1.         1.         1.         1.         1.         1.\n",
      " 1.         1.         1.         1.         1.         1.\n",
      " 1.         1.         1.         1.         1.         1.\n",
      " 1.         1.         1.         1.         1.         1.\n",
      " 1.         1.         1.         1.         1.         1.\n",
      " 1.         1.         1.         1.         1.         1.\n",
      " 1.         1.         1.         1.         1.         1.\n",
      " 1.         1.         1.         1.         1.         1.\n",
      " 1.         1.         1.         1.         1.         1.\n",
      " 1.         1.         1.         1.         1.         1.\n",
      " 1.         1.         1.         1.         1.         1.\n",
      " 1.         1.         1.         1.         1.         1.\n",
      " 1.         1.         1.         1.         1.         1.\n",
      " 1.         1.         1.         1.         1.         1.\n",
      " 1.         1.         1.         1.         1.         1.\n",
      " 1.         1.         1.         1.         1.         1.\n",
      " 1.         1.         1.         1.         1.         1.\n",
      " 1.         1.         1.         1.         1.         1.\n",
      " 1.         1.         1.         1.         1.         1.\n",
      " 1.         1.         1.         1.         1.         1.\n",
      " 1.         1.         1.         1.         1.         1.\n",
      " 1.         1.         1.         1.         1.         1.\n",
      " 1.         1.         1.         1.         1.         1.\n",
      " 1.         1.         1.         1.         1.         1.\n",
      " 1.         1.         1.         1.         1.         1.\n",
      " 1.         1.         1.         1.         1.         1.\n",
      " 1.         1.         1.         1.         1.         1.\n",
      " 1.         1.         1.         1.         1.         1.\n",
      " 1.         1.         1.         1.         1.         1.\n",
      " 1.         1.         1.         1.         1.         1.\n",
      " 1.         1.         1.         1.         1.         1.\n",
      " 1.         1.         1.         1.         1.         1.\n",
      " 1.         1.         1.         1.         1.         1.\n",
      " 1.         1.         1.         1.         1.         1.\n",
      " 1.         1.         1.         1.         1.         1.\n",
      " 1.         1.         1.         1.         1.         1.\n",
      " 1.         1.         1.         1.         1.         1.\n",
      " 1.         1.         1.         1.         1.         1.\n",
      " 1.         1.         1.         1.         1.         1.\n",
      " 1.         1.         1.         1.         1.         1.\n",
      " 1.         1.         1.         1.         1.         1.\n",
      " 1.         1.         1.         1.         1.         1.\n",
      " 1.         1.         1.         1.         1.         1.\n",
      " 1.         1.         1.         1.         1.         1.\n",
      " 1.         1.         1.         1.         1.         1.\n",
      " 1.         1.         1.         1.         1.         1.\n",
      " 1.         1.         1.         1.         1.         1.\n",
      " 1.         1.         1.         1.         1.         1.\n",
      " 1.         1.         1.         1.         1.         1.\n",
      " 1.         1.         1.         1.         1.         1.\n",
      " 1.         1.         1.         1.         1.         1.\n",
      " 1.         1.         1.         1.         1.         1.\n",
      " 1.         1.         1.         1.         1.         1.\n",
      " 1.         1.         1.         1.         1.         1.\n",
      " 1.         1.         1.         1.         1.         1.\n",
      " 1.         1.         1.         1.         1.         1.\n",
      " 1.         1.         1.         1.         1.         1.\n",
      " 1.         1.         1.         1.         1.         1.\n",
      " 1.         1.         1.         1.         1.         1.\n",
      " 1.         1.         1.         1.         1.         1.\n",
      " 1.         1.         1.         1.         1.         1.\n",
      " 1.         1.         1.         1.         1.         1.\n",
      " 1.         1.         1.         1.         1.         1.\n",
      " 1.         1.         1.         1.         1.         1.\n",
      " 1.         1.         1.         1.         1.         1.\n",
      " 1.         1.         1.         1.         1.         1.\n",
      " 1.         1.         1.         1.         1.         1.\n",
      " 1.         1.         1.         1.         1.         1.\n",
      " 1.         1.         1.         1.         1.         1.\n",
      " 1.         1.         1.         1.         1.         1.\n",
      " 1.         1.         1.         1.         1.         1.\n",
      " 1.         1.         1.         1.         1.         1.\n",
      " 1.         1.         1.         1.         1.         1.\n",
      " 1.         1.         1.         1.         1.         1.\n",
      " 1.         1.         1.         1.         1.         1.\n",
      " 1.         1.         1.         1.         1.         1.\n",
      " 1.         1.         1.         1.         1.         1.\n",
      " 1.         1.         1.         1.         1.         1.\n",
      " 1.         1.         1.         1.         1.         1.\n",
      " 1.         1.         1.         1.         1.         1.\n",
      " 1.         1.         1.         1.         1.         1.\n",
      " 1.         1.         1.         1.         1.         1.\n",
      " 1.         1.         1.         1.         1.         1.\n",
      " 1.         1.         1.         1.         1.         1.\n",
      " 1.         1.         1.         1.         1.         1.\n",
      " 1.         1.         1.         1.         1.         1.\n",
      " 1.         1.         1.         1.         1.         1.\n",
      " 1.         1.         1.         1.         1.         1.\n",
      " 1.         1.         1.         1.         1.         1.\n",
      " 1.         1.         1.         1.         1.         1.\n",
      " 1.         1.         1.         1.         1.         1.\n",
      " 1.         1.         1.         1.         1.         1.\n",
      " 1.         1.         1.         1.         1.         1.\n",
      " 1.         1.         1.         1.         1.         1.\n",
      " 1.         1.         1.         1.         1.         1.\n",
      " 1.         1.         1.         1.         1.         1.\n",
      " 1.         1.         1.         1.        ]\n",
      "(1000,)\n",
      "11.302018839596348\n"
     ]
    },
    {
     "data": {
      "image/png": "[encoded data removed]",
      "text/plain": [
       "<Figure size 432x288 with 1 Axes>"
      ]
     },
     "metadata": {
      "needs_background": "light"
     },
     "output_type": "display_data"
    }
   ],
   "source": [
    "mc = 1000\n",
    "C = np.zeros(mc)\n",
    "for j in range(mc):\n",
    "    np.random.seed(j)\n",
    "    C[j] = sinr_mc(2, N, BS, P_dBm)\n",
    "hist = norm.cdf(np.sort(C))\n",
    "print(CDF)\n",
    "print(C.shape)\n",
    "print(np.std(C))\n",
    "label = ('{} users'.format(2))\n",
    "plt.plot(np.sort(C), CDF, label=label)\n",
    "plt.grid()"
   ]
  },
  {
   "cell_type": "code",
   "execution_count": 32,
   "metadata": {},
   "outputs": [
    {
     "name": "stdout",
     "output_type": "stream",
     "text": [
      "15.914972188187683\n"
     ]
    }
   ],
   "source": [
    "print(sinr_mc(1, N, BS, 40))"
   ]
  },
  {
   "cell_type": "code",
   "execution_count": 49,
   "metadata": {},
   "outputs": [],
   "source": [
    "n = [1,2,4,6,8]#,10,12,14,16,18,20,22,24,26,28,30,32,34,36,38,40,64,80,100,128]\n",
    "us = [1,2,8,16]#,24,32,40,45,50,55,64,80,100,128]"
   ]
  },
  {
   "cell_type": "code",
   "execution_count": 34,
   "metadata": {},
   "outputs": [
    {
     "data": {
      "text/plain": [
       "int"
      ]
     },
     "execution_count": 34,
     "metadata": {},
     "output_type": "execute_result"
    }
   ],
   "source": [
    "type(n[i])"
   ]
  },
  {
   "cell_type": "code",
   "execution_count": 56,
   "metadata": {},
   "outputs": [],
   "source": [
    "def cdf(C):\n",
    "    hist, bins = np.histogram(C, bins=20)\n",
    "    pdf_C = hist/np.sum(hist)\n",
    "    cdf_C = np.cumsum(pdf_C)\n",
    "    return cdf_C, pdf_C, bins"
   ]
  },
  {
   "cell_type": "code",
   "execution_count": 58,
   "metadata": {},
   "outputs": [
    {
     "name": "stdout",
     "output_type": "stream",
     "text": [
      "n - 1\n",
      "n - 2\n",
      "n - 8\n",
      "n - 16\n"
     ]
    },
    {
     "data": {
      "image/png": "[encoded data removed]",
      "text/plain": [
       "<Figure size 864x288 with 1 Axes>"
      ]
     },
     "metadata": {
      "needs_background": "light"
     },
     "output_type": "display_data"
    }
   ],
   "source": [
    "plt.figure(figsize=(12,4))\n",
    "AVG = np.array([])\n",
    "for i in range(len(us)):\n",
    "    C = np.zeros(mc)\n",
    "    for j in range(mc):\n",
    "        np.random.seed(j)\n",
    "        C[j] = sinr_mc(us[i], N, BS, P_dBm)\n",
    "    CDF, PDF, BINS = cdf(C)\n",
    "    #AVG = np.append(AVG, avg)\n",
    "    label = ('{} users'.format(us[i]))\n",
    "    plt.plot(BINS[1::], CDF, label=label)\n",
    "    print(\"n - \" + str(us[i]))\n",
    "plt.ylabel(\"CDF\")\n",
    "plt.xlabel(\"Channel Capacity [bits/Hz]\")\n",
    "plt.xlim(0,60)\n",
    "plt.legend(bbox_to_anchor=(1.05, 1.0), loc='upper left')\n",
    "plt.grid()"
   ]
  },
  {
   "cell_type": "code",
   "execution_count": 51,
   "metadata": {},
   "outputs": [
    {
     "name": "stdout",
     "output_type": "stream",
     "text": [
      "n - 1\n",
      "n - 2\n",
      "n - 4\n",
      "n - 6\n",
      "n - 8\n",
      "n - 10\n",
      "n - 12\n",
      "n - 14\n",
      "n - 16\n",
      "n - 18\n",
      "n - 20\n",
      "n - 22\n",
      "n - 24\n",
      "n - 26\n",
      "n - 28\n",
      "n - 30\n",
      "n - 32\n",
      "n - 34\n",
      "n - 36\n",
      "n - 38\n",
      "n - 40\n",
      "n - 64\n",
      "n - 80\n",
      "n - 100\n",
      "n - 128\n"
     ]
    },
    {
     "data": {
      "image/png": "[encoded data removed]",
      "text/plain": [
       "<Figure size 864x288 with 1 Axes>"
      ]
     },
     "metadata": {
      "needs_background": "light"
     },
     "output_type": "display_data"
    }
   ],
   "source": [
    "plt.figure(figsize=(12,4))\n",
    "AVG = np.array([])\n",
    "for i in range(len(n)):\n",
    "    C = np.zeros(mc)\n",
    "    for j in range(mc):\n",
    "        np.random.seed(j)\n",
    "        C[j] = sinr_mc(n[i], N, BS, P_dBm)\n",
    "    CDF, avg = cdf(C)\n",
    "    AVG = np.append(AVG, avg)\n",
    "    label = ('{} users'.format(n[i]))\n",
    "    print(\"n - \" + str(n[i]))\n",
    "plt.plot(n, AVG, label=label)\n",
    "plt.ylabel(\"Average Channel Capacity [bits/Hz]\")\n",
    "plt.xlabel(\"Users\")\n",
    "plt.legend(bbox_to_anchor=(1.05, 1.0), loc='upper left')\n",
    "plt.grid()"
   ]
  },
  {
   "cell_type": "markdown",
   "metadata": {},
   "source": [
    "##### Sem clusterização"
   ]
  },
  {
   "cell_type": "code",
   "execution_count": 57,
   "metadata": {},
   "outputs": [
    {
     "data": {
      "text/plain": [
       "[array([[149.31086476,  87.58907112,   1.5       ]])]"
      ]
     },
     "execution_count": 57,
     "metadata": {},
     "output_type": "execute_result"
    }
   ],
   "source": [
    "[UE]"
   ]
  },
  {
   "cell_type": "code",
   "execution_count": 36,
   "metadata": {},
   "outputs": [],
   "source": [
    "def sem_mc(num_ue, N, BS, P_dBm):\n",
    "    \"\"\"\n",
    "    Gerar os canais, Com mesma BS e gerando diferentes UE calculando H,V,sinr e C()\n",
    "    \"\"\"\n",
    "    total = BS.shape[0]\n",
    "    UE = usuário(num_ue, 200, 100)\n",
    "    UEs_antenna = [UE,UE,UE,UE,UE,UE,UE,UE]\n",
    "    P_dBm = powerUE(num_ue, total, UE,UEs_antenna, P_dBm)\n",
    "    H = channel_user2(num_ue,total,N,UE,BS,UEs_antenna)\n",
    "    H = vectorize(H, num_ue, total, N)\n",
    "    V = get_beamforming(H, num_ue, total, P_dBm)\n",
    "    S = np.zeros(len(UE))\n",
    "    for i in range(len(UE)):\n",
    "        S[i] = sinr(H[i], V, i, σ)\n",
    "    C = np.sum(np.log2(S+1))\n",
    "    \n",
    "    return C"
   ]
  },
  {
   "cell_type": "code",
   "execution_count": 59,
   "metadata": {},
   "outputs": [
    {
     "name": "stdout",
     "output_type": "stream",
     "text": [
      "n - 1\n",
      "n - 2\n",
      "n - 8\n",
      "n - 16\n"
     ]
    },
    {
     "data": {
      "image/png": "[encoded data removed]",
      "text/plain": [
       "<Figure size 864x288 with 1 Axes>"
      ]
     },
     "metadata": {
      "needs_background": "light"
     },
     "output_type": "display_data"
    }
   ],
   "source": [
    "plt.figure(figsize=(12,4))\n",
    "AVG = np.array([])\n",
    "for i in range(len(us)):\n",
    "    C = np.zeros(mc)\n",
    "    for j in range(mc):\n",
    "        np.random.seed(j)\n",
    "        C[j] = sem_mc(us[i], N, BS, P_dBm)\n",
    "    CDF, PDF, BINS = cdf(C)\n",
    "    AVG = np.append(AVG, avg)\n",
    "    label = ('{} users'.format(us[i]))\n",
    "    plt.plot(BINS[1::], CDF, label=label)\n",
    "    print(\"n - \" + str(us[i]))\n",
    "plt.ylabel(\"CDF\")\n",
    "plt.xlabel(\"Channel Capacity [bits/Hz]\")\n",
    "plt.xlim(0,60)\n",
    "plt.legend(bbox_to_anchor=(1.05, 1.0), loc='upper left')\n",
    "plt.grid()"
   ]
  },
  {
   "cell_type": "code",
   "execution_count": 38,
   "metadata": {},
   "outputs": [
    {
     "name": "stdout",
     "output_type": "stream",
     "text": [
      "n - 1\n",
      "n - 2\n",
      "n - 4\n",
      "n - 6\n",
      "n - 8\n",
      "n - 10\n",
      "n - 12\n",
      "n - 14\n",
      "n - 16\n",
      "n - 18\n",
      "n - 20\n",
      "n - 22\n",
      "n - 24\n",
      "n - 26\n",
      "n - 28\n",
      "n - 30\n",
      "n - 32\n",
      "n - 34\n",
      "n - 36\n",
      "n - 38\n",
      "n - 40\n",
      "n - 64\n",
      "n - 80\n",
      "n - 100\n",
      "n - 128\n"
     ]
    },
    {
     "data": {
      "image/png": "[encoded data removed]",
      "text/plain": [
       "<Figure size 864x288 with 1 Axes>"
      ]
     },
     "metadata": {
      "needs_background": "light"
     },
     "output_type": "display_data"
    }
   ],
   "source": [
    "plt.figure(figsize=(12,4))\n",
    "AVG = np.array([])\n",
    "for i in range(len(n)):\n",
    "    C = np.zeros(mc)\n",
    "    for j in range(mc):\n",
    "        np.random.seed(j)\n",
    "        C[j] = sem_mc(n[i], N, BS, P_dBm)\n",
    "    CDF, avg = cdf(C)\n",
    "    AVG = np.append(AVG, avg)\n",
    "    label = ('{} users'.format(n[i]))\n",
    "    print(\"n - \" + str(n[i]))\n",
    "plt.plot(n, AVG, label=label)\n",
    "plt.ylabel(\"Average Channel Capacity [bits/Hz]\")\n",
    "plt.xlabel(\"Users\")\n",
    "plt.legend(bbox_to_anchor=(1.05, 1.0), loc='upper left')\n",
    "plt.grid()"
   ]
  },
  {
   "cell_type": "code",
   "execution_count": null,
   "metadata": {},
   "outputs": [],
   "source": []
  }
 ],
 "metadata": {
  "kernelspec": {
   "display_name": "Python 3",
   "language": "python",
   "name": "python3"
  },
  "language_info": {
   "codemirror_mode": {
    "name": "ipython",
    "version": 3
   },
   "file_extension": ".py",
   "mimetype": "text/x-python",
   "name": "python",
   "nbconvert_exporter": "python",
   "pygments_lexer": "ipython3",
   "version": "3.7.6"
  }
 },
 "nbformat": 4,
 "nbformat_minor": 4
}
