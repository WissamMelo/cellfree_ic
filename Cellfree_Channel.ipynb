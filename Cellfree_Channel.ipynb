{
 "cells": [
  {
   "cell_type": "markdown",
   "metadata": {},
   "source": [
    "### Written by  [Gabriel Borges Pinheiro](github.com/gabrielbopi) & Wissam Melo"
   ]
  },
  {
   "cell_type": "code",
   "execution_count": 1,
   "metadata": {},
   "outputs": [],
   "source": [
    "import numpy as np\n",
    "from scipy.stats import norm\n",
    "import matplotlib.pyplot as plt\n",
    "%matplotlib inline\n",
    "\n",
    "# This import registers the 3D projection, but is otherwise unused.\n",
    "from mpl_toolkits.mplot3d import Axes3D  # noqa: F401 unused import"
   ]
  },
  {
   "cell_type": "markdown",
   "metadata": {},
   "source": [
    "#### Creating the test environment"
   ]
  },
  {
   "cell_type": "code",
   "execution_count": 2,
   "metadata": {},
   "outputs": [],
   "source": [
    "def bases(D, x, y, alt=15):\n",
    "    num_x = int(x/D)\n",
    "    num_y = int(y/D)\n",
    "    total = num_x*num_y\n",
    "    n = np.array([])\n",
    "    for i in range(num_y):\n",
    "        for j in range(num_x):\n",
    "            n = np.append(n, np.array([(j*D)+(D/2),(i*D)+(D/2),alt])) \n",
    "        \n",
    "    return total, n.reshape(total,3)\n",
    "\n",
    "def usuário(n, x, y):\n",
    "    UE = np.array([])\n",
    "    for i in range(n):\n",
    "        UE = np.append(UE,np.array([x*np.random.random(),y*np.random.random(),1.5]))\n",
    "    return UE.reshape(n,3)"
   ]
  },
  {
   "cell_type": "code",
   "execution_count": 3,
   "metadata": {},
   "outputs": [],
   "source": [
    "def BSs_per_UE(BS, UE, total):\n",
    "    endereços = []\n",
    "\n",
    "    for n in range(num_ue):\n",
    "        BS_UE = np.array([])\n",
    "        conectadas = 0\n",
    "        for i in range(total):\n",
    "            dist = np.linalg.norm(BS[i]-UE[n])\n",
    "            if dist <= 50:\n",
    "                conectadas += 1\n",
    "                BS_UE = np.append(BS_UE, BS[i])\n",
    "        BS_UE = np.append(BS_UE, 0)\n",
    "        endereços = np.append(endereços,BS_UE)\n",
    "  \n",
    "    # using list comprehension + zip() + slicing + enumerate() \n",
    "    # Split list into lists by particular value \n",
    "    size = len(endereços) \n",
    "    idx_list = [idx + 1 for idx, val in enumerate(endereços) if val == 0] \n",
    "    res = [endereços[i: j] for i, j in zip([0] + idx_list, idx_list + ([size] if idx_list[-1] != size else []))]\n",
    "    \n",
    "    for i in range(len(res)):\n",
    "        indices = np.where(res[i]==0)\n",
    "        res[i] = np.delete(res[i], indices)\n",
    "        res[i] = res[i].reshape(int((res[i].shape[0])/3),3)\n",
    "    res = np.array(res)\n",
    "    return res"
   ]
  },
  {
   "cell_type": "code",
   "execution_count": 4,
   "metadata": {},
   "outputs": [],
   "source": [
    "def UEs_per_BS(BS, UE, total):\n",
    "    positions = []\n",
    "\n",
    "    for n in range(total):\n",
    "        BS_UE = np.array([])\n",
    "        conectados = 0\n",
    "        for i in range(num_ue):\n",
    "            dist = np.linalg.norm(BS[n]-UE[i])\n",
    "            if dist <= 50:\n",
    "                conectados += 1\n",
    "                BS_UE = np.append(BS_UE, UE[i])\n",
    "        BS_UE = np.append(BS_UE, 0)\n",
    "        positions = np.append(positions,BS_UE)\n",
    "    \n",
    "    # using list comprehension + zip() + slicing + enumerate() \n",
    "    # Split list into lists by particular value \n",
    "    size = len(positions) \n",
    "    idx_list = [idx + 1 for idx, val in enumerate(positions) if val == 0]\n",
    "    antenna = [positions[i: j] for i, j in zip([0] + idx_list, idx_list + ([size] if idx_list[-1] != size else []))] \n",
    "\n",
    "    for i in range(len(antenna)):\n",
    "        indices = np.where(antenna[i]==0)\n",
    "        antenna[i] = np.delete(antenna[i], indices)\n",
    "        antenna[i] = antenna[i].reshape(int((antenna[i].shape[0])/3),3)\n",
    "    return antenna"
   ]
  },
  {
   "cell_type": "markdown",
   "metadata": {},
   "source": [
    "##### Generating BSs and UEs"
   ]
  },
  {
   "cell_type": "code",
   "execution_count": 5,
   "metadata": {},
   "outputs": [],
   "source": [
    "#Espaçamento entre cada BS\n",
    "gap_bs = 50 #m\n",
    "#Number of users\n",
    "num_ue = 3\n",
    "\n",
    "total,BS = bases(gap_bs, 200, 100)\n",
    "UE = usuário(num_ue, 200, 100)\n",
    "UEs_antenna = UEs_per_BS(BS, UE, total)\n",
    "BSUE = BSs_per_UE(BS, UE, total)"
   ]
  },
  {
   "cell_type": "code",
   "execution_count": 6,
   "metadata": {},
   "outputs": [
    {
     "data": {
      "text/plain": [
       "array([[ 25.,  25.,  15.],\n",
       "       [ 75.,  25.,  15.],\n",
       "       [125.,  25.,  15.],\n",
       "       [175.,  25.,  15.],\n",
       "       [ 25.,  75.,  15.],\n",
       "       [ 75.,  75.,  15.],\n",
       "       [125.,  75.,  15.],\n",
       "       [175.,  75.,  15.]])"
      ]
     },
     "execution_count": 6,
     "metadata": {},
     "output_type": "execute_result"
    }
   ],
   "source": [
    "BS"
   ]
  },
  {
   "cell_type": "code",
   "execution_count": 7,
   "metadata": {},
   "outputs": [
    {
     "data": {
      "text/plain": [
       "array([[116.21070319,  74.10612159,   1.5       ],\n",
       "       [156.80768949,  68.31576088,   1.5       ],\n",
       "       [117.65230052,   4.0235015 ,   1.5       ]])"
      ]
     },
     "execution_count": 7,
     "metadata": {},
     "output_type": "execute_result"
    }
   ],
   "source": [
    "UE"
   ]
  },
  {
   "cell_type": "code",
   "execution_count": 8,
   "metadata": {},
   "outputs": [
    {
     "data": {
      "text/plain": [
       "[array([], shape=(0, 3), dtype=float64),\n",
       " array([[117.65230052,   4.0235015 ,   1.5       ]]),\n",
       " array([[117.65230052,   4.0235015 ,   1.5       ]]),\n",
       " array([[156.80768949,  68.31576088,   1.5       ]]),\n",
       " array([], shape=(0, 3), dtype=float64),\n",
       " array([[116.21070319,  74.10612159,   1.5       ]]),\n",
       " array([[116.21070319,  74.10612159,   1.5       ],\n",
       "        [156.80768949,  68.31576088,   1.5       ]]),\n",
       " array([[156.80768949,  68.31576088,   1.5       ]])]"
      ]
     },
     "execution_count": 8,
     "metadata": {},
     "output_type": "execute_result"
    }
   ],
   "source": [
    "UEs_antenna"
   ]
  },
  {
   "cell_type": "code",
   "execution_count": 9,
   "metadata": {},
   "outputs": [
    {
     "data": {
      "text/plain": [
       "1"
      ]
     },
     "execution_count": 9,
     "metadata": {},
     "output_type": "execute_result"
    }
   ],
   "source": [
    "UEs_antenna[2].shape[0]"
   ]
  },
  {
   "cell_type": "code",
   "execution_count": 10,
   "metadata": {},
   "outputs": [
    {
     "data": {
      "text/plain": [
       "array([array([[ 75.,  75.,  15.],\n",
       "       [125.,  75.,  15.]]),\n",
       "       array([[175.,  25.,  15.],\n",
       "       [125.,  75.,  15.],\n",
       "       [175.,  75.,  15.]]),\n",
       "       array([[ 75.,  25.,  15.],\n",
       "       [125.,  25.,  15.]])], dtype=object)"
      ]
     },
     "execution_count": 10,
     "metadata": {},
     "output_type": "execute_result"
    }
   ],
   "source": [
    "BSUE"
   ]
  },
  {
   "cell_type": "markdown",
   "metadata": {},
   "source": [
    "#### Calculating the parameters"
   ]
  },
  {
   "cell_type": "code",
   "execution_count": 11,
   "metadata": {},
   "outputs": [],
   "source": [
    "def db(X):\n",
    "    return 10 * np.log10(np.abs(X))\n",
    "def inv_db(X):\n",
    "    return 10**(X/10)\n",
    "def dbm(X):\n",
    "    return 10 * np.log10(np.abs(X)/(1e-3))\n",
    "def inv_dbm(X):\n",
    "    return (1e-3) * 10**(X/10)"
   ]
  },
  {
   "cell_type": "code",
   "execution_count": 104,
   "metadata": {},
   "outputs": [],
   "source": [
    "def β_channel(D):\n",
    "    \"\"\"\n",
    "    Returns the \n",
    "    \"\"\"\n",
    "    #Carrier frequency (LTE band 7)\n",
    "    f = 2.6e9\n",
    "    #Wavelength\n",
    "    λ = 3e8/f\n",
    "    R = D\n",
    "    #Linear pathloss\n",
    "    L_lin =  (λ/(4*np.pi*R))**2\n",
    "    β = L_lin\n",
    "    return β\n",
    "\n",
    "def rand_channel(D, N):\n",
    "    \"\"\"\n",
    "    Returns the channel\n",
    "    \"\"\"\n",
    "    β = β_channel(D)\n",
    "    ampl = np.sqrt(β)/2\n",
    "    h = (np.random.randn(N) + 1j*np.random.randn(N)) * ampl\n",
    "    return h\n",
    "\n",
    "def ch_user(N, num_ue, UE, total, BSUE):\n",
    "    \"\"\"\n",
    "    Retorna uma matriz 3D, onde h[UE][BS]{stream}\n",
    "    \"\"\"\n",
    "    \n",
    "    h = np.zeros((num_ue,total,N),dtype = 'complex_')\n",
    "    for i in range(num_ue):\n",
    "        for j in range(BSUE[i].shape[0]):\n",
    "            R = np.linalg.norm(UE[i] - BSUE[i][j])\n",
    "            h[i][j] = rand_channel(R, N)\n",
    "    return h\n",
    "\n",
    "def channel_user2(num_ue,numBS,nAntennas,UEpos,BSpos,UEs_antenna):\n",
    "    \"\"\"\n",
    "    Retorna uma matriz 3D, onde h[UE][BS]{stream}\n",
    "    \"\"\"\n",
    "    H = np.zeros((num_ue,numBS,nAntennas),dtype=complex)\n",
    "\n",
    "    for ii in range(numBS):\n",
    "        for jj in range(UEs_antenna[ii].shape[0]):\n",
    "            user = np.argmin(np.sum(np.abs(UEs_antenna[ii][jj] - UEpos),axis=1))\n",
    "            R = np.linalg.norm(BSpos[ii] - UEs_antenna[ii][jj]) \n",
    "            H[int(user)][ii] = rand_channel(R, nAntennas)\n",
    "\n",
    "    return H\n",
    "\n",
    "def channel_user(N, UE, num_ue, BSs_per_UE):\n",
    "    \"\"\"\n",
    "    Retorna uma matriz 3D, onde h[UE][BS]{stream}\n",
    "    \"\"\"\n",
    "    \n",
    "    num_ue = BSs_per_UE.shape[0]\n",
    "    h = np.array([])\n",
    "    y = np.array([])\n",
    "    for i in range(num_ue):\n",
    "        for j in range(BSs_per_UE[i].shape[0]):\n",
    "            R = np.linalg.norm(UE[i] - BSs_per_UE[i][j])\n",
    "            y = rand_channel(R, N)\n",
    "            h = np.append(h, y)\n",
    "        h = np.append(h, 0)\n",
    "    \n",
    "    size = len(h) \n",
    "    idx_list = [idx + 1 for idx, val in enumerate(h) if val == 0] \n",
    "    h = [h[i: j] for i, j in zip([0] + idx_list, idx_list + ([size] if idx_list[-1] != size else []))]\n",
    "    for i in range(len(h)):\n",
    "        indices = np.where(h[i]==0)\n",
    "        h[i] = np.delete(h[i], indices)\n",
    "        #h[i] = h[i].reshape(int((h[i].shape[0])/N),N)\n",
    "    h = np.array(h)\n",
    "    \n",
    "    return h\n",
    "\n",
    "def powerUE(num_ue, total, UEpos,UEs_antenna, P_dBm):\n",
    "    p = np.zeros(num_ue)\n",
    "    for i in range(total):\n",
    "        UE_BS = UEs_antenna[i].shape[0]\n",
    "        for j in range(UEs_antenna[i].shape[0]):\n",
    "            user = np.argmin(np.sum(np.abs(UEs_antenna[i][j] - UEpos),axis=1))\n",
    "            p[int(user)] =  p[int(user)] + (inv_dbm(P_dBm)/int(UE_BS))\n",
    "    return dbm(p)\n",
    "\n",
    "def get_beamforming(h, num_ue, total, P_dBm):\n",
    "    p = inv_dbm(P_dBm)\n",
    "    v = np.zeros((num_ue,total*N), dtype = 'complex_')\n",
    "    for i in range(num_ue):\n",
    "        v[i] = np.sqrt(p[i])*(np.conjugate(h[i])/np.linalg.norm(h[i]))\n",
    "        \n",
    "    return v"
   ]
  },
  {
   "cell_type": "code",
   "execution_count": 105,
   "metadata": {},
   "outputs": [
    {
     "data": {
      "text/plain": [
       "array([41.76091259, 43.97940009, 43.01029996])"
      ]
     },
     "execution_count": 105,
     "metadata": {},
     "output_type": "execute_result"
    }
   ],
   "source": [
    "P_dBm = 40\n",
    "powerUE(num_ue, total, UE,UEs_antenna, P_dBm)"
   ]
  },
  {
   "cell_type": "code",
   "execution_count": 95,
   "metadata": {},
   "outputs": [],
   "source": [
    "#Numero de antenas no arranjo\n",
    "N = 5\n",
    "\n",
    "#h = channel_user(N, UE, total, BSUE)\n",
    "H = channel_user2(num_ue,total,N,UE,BS,UEs_antenna)"
   ]
  },
  {
   "cell_type": "code",
   "execution_count": 96,
   "metadata": {},
   "outputs": [
    {
     "data": {
      "text/plain": [
       "3"
      ]
     },
     "execution_count": 96,
     "metadata": {},
     "output_type": "execute_result"
    }
   ],
   "source": [
    "len(H)"
   ]
  },
  {
   "cell_type": "code",
   "execution_count": 97,
   "metadata": {},
   "outputs": [
    {
     "data": {
      "text/plain": [
       "2"
      ]
     },
     "execution_count": 97,
     "metadata": {},
     "output_type": "execute_result"
    }
   ],
   "source": [
    "BSUE[0].shape[0]"
   ]
  },
  {
   "cell_type": "code",
   "execution_count": 98,
   "metadata": {},
   "outputs": [],
   "source": [
    "def vectorize(H, num_ue, total, N):\n",
    "    h = np.zeros((num_ue, N*total), dtype ='complex_')\n",
    "    for i in range(num_ue):\n",
    "        h[i] = H[i].reshape(N*total)\n",
    "    return h\n",
    "\n",
    "H = vectorize(H, 3, total, N)"
   ]
  },
  {
   "cell_type": "code",
   "execution_count": 99,
   "metadata": {},
   "outputs": [],
   "source": [
    "v = get_beamforming(H, num_ue, total, P_dBm)"
   ]
  },
  {
   "cell_type": "code",
   "execution_count": 100,
   "metadata": {},
   "outputs": [
    {
     "data": {
      "text/plain": [
       "array([[ 0.        +0.j        ,  0.        +0.j        ,\n",
       "         0.        +0.j        ,  0.        +0.j        ,\n",
       "         0.        +0.j        ,  0.        +0.j        ,\n",
       "         0.        +0.j        ,  0.        +0.j        ,\n",
       "         0.        +0.j        ,  0.        +0.j        ,\n",
       "         0.        +0.j        ,  0.        +0.j        ,\n",
       "         0.        +0.j        ,  0.        +0.j        ,\n",
       "         0.        +0.j        ,  0.        +0.j        ,\n",
       "         0.        +0.j        ,  0.        +0.j        ,\n",
       "         0.        +0.j        ,  0.        +0.j        ,\n",
       "         0.        +0.j        ,  0.        +0.j        ,\n",
       "         0.        +0.j        ,  0.        +0.j        ,\n",
       "         0.        +0.j        ,  0.01714585-0.57389041j,\n",
       "         0.10174331-0.47953619j, -0.52192083+0.19798375j,\n",
       "        -0.08531316+0.23915007j, -0.11272603+0.0128043j ,\n",
       "        -1.01931802+0.66000464j,  1.44906546+1.18827699j,\n",
       "        -0.70276897+1.34830151j, -1.20484559-0.1125887j ,\n",
       "         0.43217195+0.30298001j,  0.        +0.j        ,\n",
       "         0.        +0.j        ,  0.        +0.j        ,\n",
       "         0.        +0.j        ,  0.        +0.j        ],\n",
       "       [ 0.        +0.j        ,  0.        +0.j        ,\n",
       "         0.        +0.j        ,  0.        +0.j        ,\n",
       "         0.        +0.j        ,  0.        +0.j        ,\n",
       "         0.        +0.j        ,  0.        +0.j        ,\n",
       "         0.        +0.j        ,  0.        +0.j        ,\n",
       "         0.        +0.j        ,  0.        +0.j        ,\n",
       "         0.        +0.j        ,  0.        +0.j        ,\n",
       "         0.        +0.j        , -0.18278758+0.10238732j,\n",
       "         0.1528117 +0.55569891j, -0.32773002-0.10670211j,\n",
       "         0.14729934+0.66687651j,  0.24438839-0.57730256j,\n",
       "         0.        +0.j        ,  0.        +0.j        ,\n",
       "         0.        +0.j        ,  0.        +0.j        ,\n",
       "         0.        +0.j        ,  0.        +0.j        ,\n",
       "         0.        +0.j        ,  0.        +0.j        ,\n",
       "         0.        +0.j        ,  0.        +0.j        ,\n",
       "        -0.1040875 -0.18568887j, -0.5510718 +0.13973239j,\n",
       "         0.30902653-0.23447406j, -0.03920835-1.39668906j,\n",
       "        -0.77528232+0.38036479j, -0.06717954+0.30237104j,\n",
       "        -0.21583575+0.19772336j, -1.24216753-0.27447769j,\n",
       "        -0.52496507+0.2069675j , -0.06749054-1.81818709j],\n",
       "       [ 0.        +0.j        ,  0.        +0.j        ,\n",
       "         0.        +0.j        ,  0.        +0.j        ,\n",
       "         0.        +0.j        ,  0.08831348+0.6606916j ,\n",
       "         0.29134671-0.25056349j, -0.25114129+0.71028621j,\n",
       "        -0.11517065-1.2684044j ,  0.17488974+1.63499325j,\n",
       "         1.17563493+0.00659654j, -0.02593297+0.39601065j,\n",
       "         0.1137904 +0.14798214j,  1.38509194-0.72556978j,\n",
       "        -0.29118811+0.64055754j,  0.        +0.j        ,\n",
       "         0.        +0.j        ,  0.        +0.j        ,\n",
       "         0.        +0.j        ,  0.        +0.j        ,\n",
       "         0.        +0.j        ,  0.        +0.j        ,\n",
       "         0.        +0.j        ,  0.        +0.j        ,\n",
       "         0.        +0.j        ,  0.        +0.j        ,\n",
       "         0.        +0.j        ,  0.        +0.j        ,\n",
       "         0.        +0.j        ,  0.        +0.j        ,\n",
       "         0.        +0.j        ,  0.        +0.j        ,\n",
       "         0.        +0.j        ,  0.        +0.j        ,\n",
       "         0.        +0.j        ,  0.        +0.j        ,\n",
       "         0.        +0.j        ,  0.        +0.j        ,\n",
       "         0.        +0.j        ,  0.        +0.j        ]])"
      ]
     },
     "execution_count": 100,
     "metadata": {},
     "output_type": "execute_result"
    }
   ],
   "source": [
    "v"
   ]
  },
  {
   "cell_type": "code",
   "execution_count": 102,
   "metadata": {},
   "outputs": [],
   "source": [
    "#Band of signal\n",
    "B = 1e6 #Hz\n",
    "#Power of noise (-127dBm is average)\n",
    "N0 = inv_dbm(-127)\n",
    "σ = B*N0"
   ]
  },
  {
   "cell_type": "code",
   "execution_count": 103,
   "metadata": {},
   "outputs": [
    {
     "data": {
      "text/plain": [
       "1.9952623149688826e-10"
      ]
     },
     "execution_count": 103,
     "metadata": {},
     "output_type": "execute_result"
    }
   ],
   "source": [
    "σ"
   ]
  },
  {
   "cell_type": "code",
   "execution_count": 87,
   "metadata": {},
   "outputs": [],
   "source": [
    "def sinr(h, V, j, σ):\n",
    "    \n",
    "    num = np.abs(V[j].transpose()@h)**2\n",
    "    den = np.zeros(num.shape)\n",
    "    for x in range(V.shape[0]):\n",
    "        #if V[x]:\n",
    "        if x!=j:\n",
    "            #den = np.add(den, np.abs(V[x].transpose()@h)**2)\n",
    "            den += np.abs(V[x].transpose()@h)**2\n",
    "    return (num/(den+σ))"
   ]
  },
  {
   "cell_type": "code",
   "execution_count": 88,
   "metadata": {},
   "outputs": [
    {
     "data": {
      "text/plain": [
       "(6.580634822166953e-05+8.470329472543003e-22j)"
      ]
     },
     "execution_count": 88,
     "metadata": {},
     "output_type": "execute_result"
    }
   ],
   "source": [
    "p = inv_dbm(P_dBm)\n",
    "H[0].transpose() @(np.sqrt(p)*(np.conjugate(H[0])/np.linalg.norm(H[0])))"
   ]
  },
  {
   "cell_type": "code",
   "execution_count": 89,
   "metadata": {},
   "outputs": [
    {
     "data": {
      "text/plain": [
       "(6.580634822166953e-05+8.470329472543003e-22j)"
      ]
     },
     "execution_count": 89,
     "metadata": {},
     "output_type": "execute_result"
    }
   ],
   "source": [
    "H[0].transpose()@v[0]"
   ]
  },
  {
   "cell_type": "code",
   "execution_count": 90,
   "metadata": {
    "scrolled": true
   },
   "outputs": [],
   "source": [
    "j = 0\n",
    "s_inr = sinr(H[j], v, j, σ)"
   ]
  },
  {
   "cell_type": "code",
   "execution_count": 91,
   "metadata": {},
   "outputs": [
    {
     "data": {
      "text/plain": [
       "11.2631049099004"
      ]
     },
     "execution_count": 91,
     "metadata": {},
     "output_type": "execute_result"
    }
   ],
   "source": [
    "s_inr"
   ]
  },
  {
   "cell_type": "code",
   "execution_count": 92,
   "metadata": {},
   "outputs": [
    {
     "name": "stdout",
     "output_type": "stream",
     "text": [
      "10.516581293568848\n"
     ]
    }
   ],
   "source": [
    "print(db(s_inr))"
   ]
  },
  {
   "cell_type": "code",
   "execution_count": 93,
   "metadata": {},
   "outputs": [],
   "source": [
    "S = np.zeros(len(UE))\n",
    "for i in range(len(UE)):\n",
    "    S[i] = sinr(H[i], v, i, σ)\n"
   ]
  },
  {
   "cell_type": "code",
   "execution_count": 94,
   "metadata": {},
   "outputs": [
    {
     "name": "stdout",
     "output_type": "stream",
     "text": [
      "8.847233479879218\n"
     ]
    }
   ],
   "source": [
    "print(np.sum(np.log2(S+1)))\n",
    "#C"
   ]
  },
  {
   "cell_type": "code",
   "execution_count": 35,
   "metadata": {},
   "outputs": [
    {
     "data": {
      "text/plain": [
       "8"
      ]
     },
     "execution_count": 35,
     "metadata": {},
     "output_type": "execute_result"
    }
   ],
   "source": [
    "BS.shape[0]"
   ]
  },
  {
   "cell_type": "code",
   "execution_count": null,
   "metadata": {},
   "outputs": [],
   "source": [
    "def sinr_mc(num_ue, N, BS, P_dBm):\n",
    "    \"\"\"\n",
    "    Gerar os canais, Com mesma BS e gerando diferentes UE calculando H,V,sinr e C()\n",
    "    \"\"\"\n",
    "    total = BS.shape[0]\n",
    "    UE = usuário(n, x, y)\n",
    "    UEs_antenna = UEs_per_BS(BS, UE, total)\n",
    "    \n",
    "    H = ch_user(N, num_ue, BS, total, UEs_antenna)\n",
    "    V = get_beamforming(H, num_ue, total, N)\n",
    "    S = np.zeros(len(UE))\n",
    "    for i in range(len(UE)):\n",
    "        S[i] = sinr(H[i], V, i, σ)\n",
    "    C = np.sum(np.log2(S+1))\n",
    "    \n",
    "    return C, sinr"
   ]
  },
  {
   "cell_type": "code",
   "execution_count": 34,
   "metadata": {},
   "outputs": [
    {
     "name": "stdout",
     "output_type": "stream",
     "text": [
      "[ 2.70684984  0.62813271  0.90796945  0.50382575  0.65111795 -0.31931804\n",
      " -0.84807698  0.60596535 -2.01816824  0.74012206]\n"
     ]
    }
   ],
   "source": [
    "for i in range(mc):\n",
    "    np.random.seed(i)\n",
    "    C, sinr = sinr_mc(num_ue, N, BS, P_dBm)"
   ]
  },
  {
   "cell_type": "markdown",
   "metadata": {},
   "source": [
    "##### Main parameters"
   ]
  },
  {
   "cell_type": "code",
   "execution_count": 78,
   "metadata": {},
   "outputs": [],
   "source": [
    "#Numero de antenas no arranjo\n",
    "N = 5\n",
    "\n",
    "#Tamanho das torres de BS\n",
    "bs_height = 15 #m\n",
    "#Espaçamento entre cada BS\n",
    "gap_bs = 50 #m\n",
    "\n",
    "#Potencia de cada base\n",
    "P_t = 40 #dBm\n",
    "\n",
    "#Number of Monte Carlo realizations\n",
    "mc = 1000"
   ]
  },
  {
   "cell_type": "markdown",
   "metadata": {},
   "source": [
    "#### Plotting a map"
   ]
  },
  {
   "cell_type": "code",
   "execution_count": 84,
   "metadata": {
    "scrolled": true
   },
   "outputs": [
    {
     "ename": "IndexError",
     "evalue": "index 2 is out of bounds for axis 0 with size 1",
     "output_type": "error",
     "traceback": [
      "\u001b[1;31m---------------------------------------------------------------------------\u001b[0m",
      "\u001b[1;31mIndexError\u001b[0m                                Traceback (most recent call last)",
      "\u001b[1;32m<ipython-input-84-9e23c5311df9>\u001b[0m in \u001b[0;36m<module>\u001b[1;34m\u001b[0m\n\u001b[0;32m     13\u001b[0m     \u001b[1;32mfor\u001b[0m \u001b[0mk\u001b[0m \u001b[1;32min\u001b[0m \u001b[0mrange\u001b[0m\u001b[1;33m(\u001b[0m\u001b[0mmc\u001b[0m\u001b[1;33m)\u001b[0m\u001b[1;33m:\u001b[0m\u001b[1;33m\u001b[0m\u001b[1;33m\u001b[0m\u001b[0m\n\u001b[0;32m     14\u001b[0m         \u001b[0mUE\u001b[0m \u001b[1;33m=\u001b[0m \u001b[0musuário\u001b[0m\u001b[1;33m(\u001b[0m\u001b[0mnum_ue\u001b[0m\u001b[1;33m,\u001b[0m \u001b[1;36m200\u001b[0m\u001b[1;33m,\u001b[0m \u001b[1;36m100\u001b[0m\u001b[1;33m)\u001b[0m\u001b[1;33m\u001b[0m\u001b[1;33m\u001b[0m\u001b[0m\n\u001b[1;32m---> 15\u001b[1;33m         \u001b[0mh\u001b[0m \u001b[1;33m=\u001b[0m \u001b[0mchannel_user\u001b[0m\u001b[1;33m(\u001b[0m\u001b[0mN\u001b[0m\u001b[1;33m,\u001b[0m \u001b[0mUE\u001b[0m\u001b[1;33m,\u001b[0m \u001b[0mres\u001b[0m\u001b[1;33m,\u001b[0m \u001b[0mi\u001b[0m\u001b[1;33m)\u001b[0m\u001b[1;33m\u001b[0m\u001b[1;33m\u001b[0m\u001b[0m\n\u001b[0m\u001b[0;32m     16\u001b[0m         \u001b[0mw\u001b[0m \u001b[1;33m=\u001b[0m \u001b[0mget_beamforming\u001b[0m\u001b[1;33m(\u001b[0m\u001b[0mh\u001b[0m\u001b[1;33m)\u001b[0m\u001b[1;33m\u001b[0m\u001b[1;33m\u001b[0m\u001b[0m\n\u001b[0;32m     17\u001b[0m         \u001b[0mSINR\u001b[0m \u001b[1;33m=\u001b[0m \u001b[0msinr\u001b[0m\u001b[1;33m(\u001b[0m\u001b[0mh\u001b[0m\u001b[1;33m,\u001b[0m \u001b[0mw\u001b[0m\u001b[1;33m,\u001b[0m \u001b[0mj\u001b[0m\u001b[1;33m,\u001b[0m \u001b[0mi\u001b[0m\u001b[1;33m,\u001b[0m \u001b[0mσ\u001b[0m\u001b[1;33m)\u001b[0m\u001b[1;33m\u001b[0m\u001b[1;33m\u001b[0m\u001b[0m\n",
      "\u001b[1;32m<ipython-input-71-e9bd9ac4ed83>\u001b[0m in \u001b[0;36mchannel_user\u001b[1;34m(N, usuario, res, i)\u001b[0m\n\u001b[0;32m     31\u001b[0m     \u001b[0my\u001b[0m \u001b[1;33m=\u001b[0m \u001b[0mnp\u001b[0m\u001b[1;33m.\u001b[0m\u001b[0marray\u001b[0m\u001b[1;33m(\u001b[0m\u001b[1;33m[\u001b[0m\u001b[1;33m]\u001b[0m\u001b[1;33m)\u001b[0m\u001b[1;33m\u001b[0m\u001b[1;33m\u001b[0m\u001b[0m\n\u001b[0;32m     32\u001b[0m     \u001b[1;32mfor\u001b[0m \u001b[0mx\u001b[0m \u001b[1;32min\u001b[0m \u001b[0mrange\u001b[0m\u001b[1;33m(\u001b[0m\u001b[0mres\u001b[0m\u001b[1;33m[\u001b[0m\u001b[0mi\u001b[0m\u001b[1;33m]\u001b[0m\u001b[1;33m.\u001b[0m\u001b[0mshape\u001b[0m\u001b[1;33m[\u001b[0m\u001b[1;36m0\u001b[0m\u001b[1;33m]\u001b[0m\u001b[1;33m)\u001b[0m\u001b[1;33m:\u001b[0m\u001b[1;33m\u001b[0m\u001b[1;33m\u001b[0m\u001b[0m\n\u001b[1;32m---> 33\u001b[1;33m         \u001b[0mR\u001b[0m \u001b[1;33m=\u001b[0m \u001b[0mnp\u001b[0m\u001b[1;33m.\u001b[0m\u001b[0mlinalg\u001b[0m\u001b[1;33m.\u001b[0m\u001b[0mnorm\u001b[0m\u001b[1;33m(\u001b[0m\u001b[0musuario\u001b[0m\u001b[1;33m[\u001b[0m\u001b[0mi\u001b[0m\u001b[1;33m]\u001b[0m \u001b[1;33m-\u001b[0m \u001b[0mres\u001b[0m\u001b[1;33m[\u001b[0m\u001b[0mi\u001b[0m\u001b[1;33m]\u001b[0m\u001b[1;33m[\u001b[0m\u001b[0mx\u001b[0m\u001b[1;33m]\u001b[0m\u001b[1;33m)\u001b[0m\u001b[1;33m\u001b[0m\u001b[1;33m\u001b[0m\u001b[0m\n\u001b[0m\u001b[0;32m     34\u001b[0m         \u001b[0my\u001b[0m \u001b[1;33m=\u001b[0m \u001b[0mrand_channel\u001b[0m\u001b[1;33m(\u001b[0m\u001b[0mR\u001b[0m\u001b[1;33m,\u001b[0m \u001b[0mN\u001b[0m\u001b[1;33m)\u001b[0m\u001b[1;33m\u001b[0m\u001b[1;33m\u001b[0m\u001b[0m\n\u001b[0;32m     35\u001b[0m         \u001b[0mh\u001b[0m \u001b[1;33m=\u001b[0m \u001b[0mnp\u001b[0m\u001b[1;33m.\u001b[0m\u001b[0mappend\u001b[0m\u001b[1;33m(\u001b[0m\u001b[0mh\u001b[0m\u001b[1;33m,\u001b[0m \u001b[0my\u001b[0m\u001b[1;33m)\u001b[0m\u001b[1;33m\u001b[0m\u001b[1;33m\u001b[0m\u001b[0m\n",
      "\u001b[1;31mIndexError\u001b[0m: index 2 is out of bounds for axis 0 with size 1"
     ]
    },
    {
     "data": {
      "image/png": "[encoded data removed]",
      "text/plain": [
       "<Figure size 792x360 with 1 Axes>"
      ]
     },
     "metadata": {
      "needs_background": "light"
     },
     "output_type": "display_data"
    }
   ],
   "source": [
    "#total,BS = bases(50, 200, 100)\n",
    "#número de UEs\n",
    "max_UE = 4\n",
    "N_ue = np.arange(max_UE)+1\n",
    "\n",
    "#Calculando a capacidade de canal para UE recebendo sinal de todas as BS:\n",
    "p = np.ones(max_UE)\n",
    "p = p * inv_dbm(P_t)\n",
    "\n",
    "fig, ax = plt.subplots(figsize = (11,5))\n",
    "for num_ue in N_ue:\n",
    "    C = np.zeros(mc)\n",
    "    for k in range(mc):\n",
    "        UE = usuário(num_ue, 200, 100)\n",
    "        h = channel_user(N, UE, res, i)\n",
    "        w = get_beamforming(h)\n",
    "        SINR = sinr(h, w, j, i, σ)\n",
    "        for SINRi in SINR:\n",
    "            C[k] += np.log2(1+SINRi.mean())\n",
    "    C = np.sort(C)# / num_ue\n",
    "    average_C = np.mean(C)\n",
    "    std_C = np.std(C)\n",
    "    cdf_C = norm.cdf(C, loc=average_C, scale=std_C)\n",
    "    \n",
    "    label = ('{} users'.format(num_ue))\n",
    "    ax.plot(C, cdf_C, label=label)\n",
    "    print('Average Channel Capacity for {} users: {} bits/Hz'.format(num_ue, average_C))\n",
    "ax.set_ylabel(\"CDF\")\n",
    "ax.set_xlabel(\"Channel Capacity [bits/Hz]\")\n",
    "plt.legend()"
   ]
  },
  {
   "cell_type": "code",
   "execution_count": 10,
   "metadata": {
    "scrolled": false
   },
   "outputs": [
    {
     "name": "stdout",
     "output_type": "stream",
     "text": [
      "SINR: [[0.53878442 1.30153095 0.62102836]\n",
      " [0.62546247 0.72921625 1.00310427]\n",
      " [0.68964899 1.04231687 0.69224802]\n",
      " [0.7052931  0.70038512 0.51387591]]\n",
      "SINRmean: 0.820447907679085\n"
     ]
    }
   ],
   "source": [
    "n_ue = 4\n",
    "p = np.ones(n_ue)\n",
    "p = p * inv_db(P_t)\n",
    "UE = usuário(n_ue, 200, 100)\n",
    "SINR = compute_sinr(N, UE, BS, p, n_stream)\n",
    "print('SINR: {}'.format(SINR))\n",
    "SINR_mean = SINR[0].mean()\n",
    "print('SINRmean: {}'.format(SINR_mean))"
   ]
  },
  {
   "cell_type": "code",
   "execution_count": null,
   "metadata": {},
   "outputs": [],
   "source": []
  }
 ],
 "metadata": {
  "kernelspec": {
   "display_name": "Python 3",
   "language": "python",
   "name": "python3"
  },
  "language_info": {
   "codemirror_mode": {
    "name": "ipython",
    "version": 3
   },
   "file_extension": ".py",
   "mimetype": "text/x-python",
   "name": "python",
   "nbconvert_exporter": "python",
   "pygments_lexer": "ipython3",
   "version": "3.7.6"
  }
 },
 "nbformat": 4,
 "nbformat_minor": 4
}
